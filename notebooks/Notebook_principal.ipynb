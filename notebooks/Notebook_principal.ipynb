{
 "cells": [
  {
   "cell_type": "markdown",
   "id": "0bfde588",
   "metadata": {},
   "source": [
    "# Contexto y motivación\n"
   ]
  },
  {
   "cell_type": "markdown",
   "id": "7162bf87",
   "metadata": {},
   "source": [
    "Diversos informes del **Ministerio de Salud (DEIS, 2020)** y estudios como el de **Mena et al. (2021)**, publicado en *Science*, han sugerido posibles diferencias en el impacto del COVID-19 entre comunas con distintos niveles socioeconómicos. Sin embargo, estos análisis se han enfocado principalmente en aspectos generales de mortalidad o contagio, sin integrar variables como vacunación, movilidad o cobertura de testeo, ni examinar cómo interactúan estas dimensiones en el contexto comunal.\n",
    "\n",
    "Por ello, este proyecto busca **integrar esa relación**, utilizando datos abiertos y actualizados para determinar con mayor precisión si el nivel socioeconómico de las comunas de la Región Metropolitana se asoció al impacto del COVID-19, considerando tanto los efectos sanitarios como las condiciones sociales que podrían explicarlos.\n",
    "\n",
    "Analizar cómo varió el impacto del COVID-19 según el nivel socioeconómico comunal permite comprender mejor las **brechas sociales que la crisis sanitaria amplificó**. Este proyecto busca **identificar patrones y relaciones** entre variables como pobreza, mortalidad, vacunación, movilidad y cobertura de testeo en las comunas de la Región Metropolitana entre 2020 y 2022.\n",
    "\n",
    "Una de las variables a utilizar para entender cómo el contexto social y económico de cada comuna se relacionó con los efectos de la pandemia serán los **tipos de prestadores de salud** de cada persona, ya sea público o privado.\n"
   ]
  },
  {
   "cell_type": "markdown",
   "id": "cc977cbf",
   "metadata": {},
   "source": [
    "### Audiencia objetivo\n",
    "\n",
    "El análisis puede ser útil para instituciones como el **Ministerio de Salud (MINSAL)**, el **Ministerio de Desarrollo Social y Familia**, las **municipalidades**, así como **investigadores**, **organismos internacionales** (OPS, CEPAL) y **centros de políticas públicas** que trabajan en reducción de desigualdades y gestión de emergencias sanitarias.\n"
   ]
  },
  {
   "cell_type": "markdown",
   "id": "916095bc",
   "metadata": {},
   "source": [
    "# Objetivos\n"
   ]
  },
  {
   "cell_type": "markdown",
   "id": "be5c28e3",
   "metadata": {},
   "source": [
    "## Pregunta principal\n",
    "> ¿Cuál es la relación entre el nivel socioeconómico comunal y el impacto del COVID-19 en la Región Metropolitana de Chile?\n",
    "\n",
    "## Objetivo general\n",
    "Evaluar cómo el nivel socioeconómico de las comunas influyó en el impacto del COVID-19, considerando indicadores como mortalidad, contagios, vacunación y movilidad durante los años 2020-2022.\n",
    "\n",
    "## Objetivos específicos\n",
    "1. Analizar si las comunas con mayor pobreza registraron mayores tasas de contagio y mortalidad por COVID-19.  \n",
    "2. Evaluar la relación entre el nivel socioeconómico y variables como vacunación, positividad y movilidad.  \n",
    "3. Identificar comunas con patrones similares de impacto mediante análisis exploratorio y estadístico.  \n",
    "4. Incorporar de forma complementaria el tipo de prestador de salud (público/privado) como variable contextual en el análisis.\n"
   ]
  },
  {
   "cell_type": "markdown",
   "id": "77d891b0",
   "metadata": {},
   "source": [
    "# ¿Para qué se responde esta pregunta?\n",
    "\n",
    "Para **entender de manera cuantitativa y territorial** cómo las desigualdades socioeconómicas influyeron en el impacto del COVID-19 y generar evidencia que permita **mejorar la equidad en la respuesta sanitaria** ante futuras emergencias.\n"
   ]
  },
  {
   "cell_type": "markdown",
   "id": "147f2064",
   "metadata": {},
   "source": [
    "# Beneficios o accionables\n",
    "\n",
    "- **Apoyar políticas públicas** enfocadas en comunas más vulnerables ante crisis sanitarias.  \n",
    "- **Fortalecer la planificación territorial en salud**, incorporando indicadores sociales en la gestión de recursos.  \n",
    "- **Visibilizar brechas** en vacunación, testeo y resultados de salud entre comunas.  \n",
    "- **Generar una base de datos integrada** que combine variables sanitarias y socioeconómicas para estudios futuros.  \n",
    "- **Contribuir a la prevención de desigualdades** en futuras pandemias o emergencias nacionales.\n"
   ]
  },
  {
   "cell_type": "markdown",
   "id": "ff768e36",
   "metadata": {},
   "source": [
    "### Referencias\n",
    "\n",
    "- Mena, G., Martínez, P. P., Mahmud, A. S., Marquet, P. A., Buckee, C. O., & Santillana, M. (2021). *Socioeconomic status determines COVID-19 incidence and related mortality in Santiago, Chile.* Science, 372(6545), eabg5298. https://doi.org/10.1126/science.abg5298  \n",
    "\n",
    "- Ministerio de Salud – DEIS. (2020). *Impactos del COVID-19 en la mortalidad de Chile durante 2020.* Gobierno de Chile. [https://www.ine.gob.cl/docs/default-source/demografia-y-migracion/publicaciones-y-anuarios/mortalidad/impactos-del-covid-19-en-la-mortalidad-de-chile-durante-2020.pdf](https://www.ine.gob.cl/docs/default-source/demografia-y-migracion/publicaciones-y-anuarios/mortalidad/impactos-del-covid-19-en-la-mortalidad-de-chile-durante-2020.pdf)\n"
   ]
  }
 ],
 "metadata": {
  "language_info": {
   "name": "python"
  }
 },
 "nbformat": 4,
 "nbformat_minor": 5
}
