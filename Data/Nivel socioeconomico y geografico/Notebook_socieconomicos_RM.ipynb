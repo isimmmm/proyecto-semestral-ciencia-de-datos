{
 "cells": [
  {
   "cell_type": "markdown",
   "id": "0d90a77b",
   "metadata": {},
   "source": [
    "Limpiaremos el dataset unificado de casen, y buscaremos las comunas en comun con el dataset covid datos por comuna, para crear un dataframe de datos socioeconomicos de la region metropolitana que sean pertinentes al proyecto orientado al covid.\n"
   ]
  },
  {
   "cell_type": "code",
   "execution_count": 1,
   "id": "b2998aee",
   "metadata": {},
   "outputs": [
    {
     "name": "stderr",
     "output_type": "stream",
     "text": [
      "C:\\Users\\Liz\\AppData\\Local\\Temp\\ipykernel_16388\\704479933.py:3: DtypeWarning: Columns (13) have mixed types. Specify dtype option on import or set low_memory=False.\n",
      "  df_socio = pd.read_csv('casen_2017_2020_2022_unido.csv')\n"
     ]
    }
   ],
   "source": [
    "import pandas as pd\n",
    "\n",
    "df_socio = pd.read_csv('casen_2017_2020_2022_unido.csv')\n",
    "df_covid = pd.read_csv('covid-19_datos_por_comuna.csv')"
   ]
  },
  {
   "cell_type": "code",
   "execution_count": 2,
   "id": "5169ea85",
   "metadata": {},
   "outputs": [
    {
     "name": "stdout",
     "output_type": "stream",
     "text": [
      "<class 'pandas.core.frame.DataFrame'>\n",
      "RangeIndex: 590836 entries, 0 to 590835\n",
      "Data columns (total 14 columns):\n",
      " #   Column                    Non-Null Count   Dtype  \n",
      "---  ------                    --------------   -----  \n",
      " 0   folio                     590836 non-null  float64\n",
      " 1   id_vivienda               590836 non-null  float64\n",
      " 2   Pobreza Categoria         590836 non-null  object \n",
      " 3   Pobreza_multidimensional  405497 non-null  float64\n",
      " 4   Año                       590836 non-null  int64  \n",
      " 5   Sistema_previsional       588434 non-null  object \n",
      " 6   NSE                       590836 non-null  object \n",
      " 7   region                    590836 non-null  float64\n",
      " 8   edad                      590836 non-null  float64\n",
      " 9   Sexo                      590836 non-null  object \n",
      " 10  Ingreso_hogar             590836 non-null  float64\n",
      " 11  Comuna                    590836 non-null  object \n",
      " 12  id_persona                590836 non-null  int64  \n",
      " 13  pobreza_sinte             590836 non-null  object \n",
      "dtypes: float64(6), int64(2), object(6)\n",
      "memory usage: 63.1+ MB\n"
     ]
    }
   ],
   "source": [
    "df_socio.head()\n",
    "df_socio.info()"
   ]
  },
  {
   "cell_type": "markdown",
   "id": "5fb94a71",
   "metadata": {},
   "source": [
    "Buscamos las comunas unicas de cada dataframe"
   ]
  },
  {
   "cell_type": "code",
   "execution_count": 3,
   "id": "c7aa869b",
   "metadata": {},
   "outputs": [
    {
     "name": "stdout",
     "output_type": "stream",
     "text": [
      "['Aisén', 'Algarrobo', 'Alhué', 'Alto Biobío', 'Alto Hospicio', 'Alto del Carmen', 'Ancud', 'Andacollo', 'Angol', 'Antofagasta', 'Antuco', 'Arauco', 'Arica', 'Buin', 'Bulnes', 'Cabildo', 'Cabo de Hornos', 'Cabrero', 'Calama', 'Calbuco', 'Caldera', 'Calera', 'Calera de Tango', 'Calle Larga', 'Camarones', 'Camiña', 'Canela', 'Carahue', 'Cartagena', 'Casablanca', 'Castro', 'Catemu', 'Cauquenes', 'Cañete', 'Cerrillos', 'Cerro Navia', 'Chanco', 'Chañaral', 'Chiguayante', 'Chile Chico', 'Chillán', 'Chillán Viejo', 'Chimbarongo', 'Cholchol', 'Chonchi', 'Chépica', 'Cisnes', 'Cobquecura', 'Cochrane', 'Codegua', 'Coelemu', 'Coihaique', 'Coihueco', 'Coinco', 'Colbún', 'Colchane', 'Colina', 'Collipulli', 'Coltauco', 'Combarbalá', 'Concepción', 'Conchalí', 'Concón', 'Constitución', 'Contulmo', 'Copiapó', 'Coquimbo', 'Coronel', 'Corral', 'Cunco', 'Curacautín', 'Curacaví', 'Curaco de Vélez', 'Curanilahue', 'Curarrehue', 'Curepto', 'Curicó', 'Dalcahue', 'Diego de Almagro', 'Doñihue', 'El Bosque', 'El Carmen', 'El Monte', 'El Quisco', 'El Tabo', 'Empedrado', 'Ercilla', 'Estación Central', 'Florida', 'Freire', 'Freirina', 'Fresia', 'Frutillar', 'Futrono', 'Galvarino', 'General Lagos', 'Gorbea', 'Graneros', 'Hijuelas', 'Hualañé', 'Hualpén', 'Hualqui', 'Huara', 'Huasco', 'Huechuraba', 'Illapel', 'Independencia', 'Iquique', 'Isla de Maipo', 'La Cisterna', 'La Cruz', 'La Estrella', 'La Florida', 'La Granja', 'La Higuera', 'La Ligua', 'La Pintana', 'La Reina', 'La Serena', 'La Unión', 'Lago Ranco', 'Lago Verde', 'Laguna Blanca', 'Laja', 'Lampa', 'Lanco', 'Las Cabras', 'Las Condes', 'Lautaro', 'Lebu', 'Licantén', 'Limache', 'Linares', 'Litueche', 'Llaillay', 'Llanquihue', 'Lo Barnechea', 'Lo Espejo', 'Lo Prado', 'Lolol', 'Loncoche', 'Longaví', 'Lonquimay', 'Los Alamos', 'Los Andes', 'Los Angeles', 'Los Lagos', 'Los Muermos', 'Los Sauces', 'Los Vilos', 'Lota', 'Lumaco', 'Machalí', 'Macul', 'Maipú', 'Malloa', 'Marchihue', 'Mariquina', 'María Elena', 'María Pinto', 'Maule', 'Maullín', 'Mejillones', 'Melipeuco', 'Melipilla', 'Molina', 'Monte Patria', 'Mostazal', 'Mulchén', 'Máfil', 'Nacimiento', 'Nancagua', 'Natales', 'Navidad', 'Negrete', 'Ninhue', 'Nogales', 'Nueva Imperial', 'Olivar', 'Olmué', 'Osorno', 'Ovalle', 'Padre Hurtado', 'Padre Las Casas', 'Paiguano', 'Paillaco', 'Paine', 'Palmilla', 'Panguipulli', 'Panquehue', 'Papudo', 'Paredones', 'Parral', 'Pedro Aguirre Cerda', 'Pelarco', 'Pelluhue', 'Pemuco', 'Pencahue', 'Penco', 'Peralillo', 'Perquenco', 'Petorca', 'Peumo', 'Peñaflor', 'Peñalolén', 'Pica', 'Pichidegua', 'Pichilemu', 'Pinto', 'Pirque', 'Pitrufquén', 'Placilla', 'Portezuelo', 'Porvenir', 'Pozo Almonte', 'Primavera', 'Providencia', 'Puchuncaví', 'Pucón', 'Pudahuel', 'Puente Alto', 'Puerto Montt', 'Puerto Octay', 'Puerto Varas', 'Pumanque', 'Punitaqui', 'Punta Arenas', 'Puqueldón', 'Purranque', 'Purén', 'Putaendo', 'Putre', 'Puyehue', 'Queilén', 'Quellón', 'Quemchi', 'Quilaco', 'Quilicura', 'Quilleco', 'Quillota', 'Quillón', 'Quilpué', 'Quinchao', 'Quinta Normal', 'Quinta de Tilcoco', 'Quintero', 'Quirihue', 'Rancagua', 'Ranquil', 'Rauco', 'Recoleta', 'Renaico', 'Renca', 'Rengo', 'Requínoa', 'Retiro', 'Rinconada', 'Romeral', 'Río Bueno', 'Río Claro', 'Río Hurtado', 'Río Ibáñez', 'Río Negro', 'Río Verde', 'Saavedra', 'Sagrada Familia', 'Salamanca', 'San Antonio', 'San Bernardo', 'San Carlos', 'San Clemente', 'San Esteban', 'San Fabián', 'San Felipe', 'San Fernando', 'San Gregorio', 'San Ignacio', 'San Javier', 'San Joaquín', 'San José de Maipo', 'San Juan de la Costa', 'San Miguel', 'San Nicolás', 'San Pablo', 'San Pedro', 'San Pedro de Atacama', 'San Pedro de la Paz', 'San Rafael', 'San Ramón', 'San Rosendo', 'San Vicente', 'Santa Bárbara', 'Santa Cruz', 'Santa Juana', 'Santa María', 'Santiago', 'Santo Domingo', 'Sierra Gorda', 'Talagante', 'Talca', 'Talcahuano', 'Taltal', 'Temuco', 'Teno', 'Teodoro Schmidt', 'Tierra Amarilla', 'Tiltil', 'Timaukel', 'Tirúa', 'Tocopilla', 'Toltén', 'Tomé', 'Torres del Paine', 'Tortel', 'Traiguén', 'Treguaco', 'Tucapel', 'Valdivia', 'Vallenar', 'Valparaíso', 'Vichuquén', 'Victoria', 'Vicuña', 'Vilcún', 'Villa Alegre', 'Villa Alemana', 'Villarrica', 'Vitacura', 'Viña del Mar', 'Yerbas Buenas', 'Yumbel', 'Yungay', 'Zapallar', 'Ñiquén', 'Ñuñoa']\n"
     ]
    }
   ],
   "source": [
    "comunas_socio = df_socio['Comuna'].unique()\n",
    "print(sorted(comunas_socio))"
   ]
  },
  {
   "cell_type": "code",
   "execution_count": 4,
   "id": "6f77d1a9",
   "metadata": {},
   "outputs": [
    {
     "name": "stdout",
     "output_type": "stream",
     "text": [
      "['Alhué', 'Buin', 'Calera De Tango', 'Cerrillos', 'Cerro Navia', 'Colina', 'Conchalí', 'Curacaví', 'El Bosque', 'El Monte', 'Estación Central', 'Huechuraba', 'Independencia', 'Isla De Maipo', 'La Cisterna', 'La Florida', 'La Granja', 'La Pintana', 'La Reina', 'Lampa', 'Las Condes', 'Lo Barnechea', 'Lo Espejo', 'Lo Prado', 'Macul', 'Maipú', 'Maria Pinto', 'Melipilla', 'Padre Hurtado', 'Paine', 'Pedro Aguirre Cerda', 'Penaflor', 'Peñalolén', 'Pirque', 'Providencia', 'Pudahuel', 'Puente Alto', 'Quilicura', 'Quinta Normal', 'Recoleta', 'Renca', 'San Bernardo', 'San Joaquín', 'San José de Maipo', 'San Miguel', 'San Pedro', 'San Ramón', 'Santiago', 'Talagante', 'Tiltil', 'Vitacura', 'Ñuñoa']\n"
     ]
    }
   ],
   "source": [
    "comunas_covid = df_covid['Comuna'].unique()\n",
    "print(sorted(comunas_covid))"
   ]
  },
  {
   "cell_type": "code",
   "execution_count": 5,
   "id": "cc8cd5c3",
   "metadata": {},
   "outputs": [
    {
     "data": {
      "text/html": [
       "<div>\n",
       "<style scoped>\n",
       "    .dataframe tbody tr th:only-of-type {\n",
       "        vertical-align: middle;\n",
       "    }\n",
       "\n",
       "    .dataframe tbody tr th {\n",
       "        vertical-align: top;\n",
       "    }\n",
       "\n",
       "    .dataframe thead th {\n",
       "        text-align: right;\n",
       "    }\n",
       "</style>\n",
       "<table border=\"1\" class=\"dataframe\">\n",
       "  <thead>\n",
       "    <tr style=\"text-align: right;\">\n",
       "      <th></th>\n",
       "      <th>Pobreza Categoria</th>\n",
       "      <th>Pobreza_multidimensional</th>\n",
       "      <th>Año</th>\n",
       "      <th>Sistema_previsional</th>\n",
       "      <th>NSE</th>\n",
       "      <th>region</th>\n",
       "      <th>Ingreso_hogar</th>\n",
       "      <th>Comuna</th>\n",
       "      <th>id_persona</th>\n",
       "      <th>pobreza_sinte</th>\n",
       "    </tr>\n",
       "  </thead>\n",
       "  <tbody>\n",
       "    <tr>\n",
       "      <th>0</th>\n",
       "      <td>No Pobreza</td>\n",
       "      <td>0.0</td>\n",
       "      <td>2017</td>\n",
       "      <td>Fonasa</td>\n",
       "      <td>Medio</td>\n",
       "      <td>13.0</td>\n",
       "      <td>924350.0</td>\n",
       "      <td>Alhué</td>\n",
       "      <td>1</td>\n",
       "      <td>No aplica</td>\n",
       "    </tr>\n",
       "    <tr>\n",
       "      <th>1</th>\n",
       "      <td>No Pobreza</td>\n",
       "      <td>0.0</td>\n",
       "      <td>2017</td>\n",
       "      <td>Fonasa</td>\n",
       "      <td>Medio</td>\n",
       "      <td>13.0</td>\n",
       "      <td>924350.0</td>\n",
       "      <td>Alhué</td>\n",
       "      <td>1</td>\n",
       "      <td>No aplica</td>\n",
       "    </tr>\n",
       "    <tr>\n",
       "      <th>2</th>\n",
       "      <td>No Pobreza</td>\n",
       "      <td>0.0</td>\n",
       "      <td>2017</td>\n",
       "      <td>Otro sistema</td>\n",
       "      <td>Medio</td>\n",
       "      <td>13.0</td>\n",
       "      <td>924350.0</td>\n",
       "      <td>Alhué</td>\n",
       "      <td>1</td>\n",
       "      <td>No aplica</td>\n",
       "    </tr>\n",
       "    <tr>\n",
       "      <th>3</th>\n",
       "      <td>No Pobreza</td>\n",
       "      <td>0.0</td>\n",
       "      <td>2017</td>\n",
       "      <td>Isapre</td>\n",
       "      <td>Medio</td>\n",
       "      <td>13.0</td>\n",
       "      <td>924350.0</td>\n",
       "      <td>Alhué</td>\n",
       "      <td>1</td>\n",
       "      <td>No aplica</td>\n",
       "    </tr>\n",
       "    <tr>\n",
       "      <th>4</th>\n",
       "      <td>No Pobreza</td>\n",
       "      <td>0.0</td>\n",
       "      <td>2017</td>\n",
       "      <td>Fonasa</td>\n",
       "      <td>Medio</td>\n",
       "      <td>13.0</td>\n",
       "      <td>924350.0</td>\n",
       "      <td>Alhué</td>\n",
       "      <td>1</td>\n",
       "      <td>No aplica</td>\n",
       "    </tr>\n",
       "  </tbody>\n",
       "</table>\n",
       "</div>"
      ],
      "text/plain": [
       "  Pobreza Categoria  Pobreza_multidimensional   Año Sistema_previsional  \\\n",
       "0        No Pobreza                       0.0  2017              Fonasa   \n",
       "1        No Pobreza                       0.0  2017              Fonasa   \n",
       "2        No Pobreza                       0.0  2017        Otro sistema   \n",
       "3        No Pobreza                       0.0  2017              Isapre   \n",
       "4        No Pobreza                       0.0  2017              Fonasa   \n",
       "\n",
       "     NSE  region  Ingreso_hogar Comuna  id_persona pobreza_sinte  \n",
       "0  Medio    13.0       924350.0  Alhué           1     No aplica  \n",
       "1  Medio    13.0       924350.0  Alhué           1     No aplica  \n",
       "2  Medio    13.0       924350.0  Alhué           1     No aplica  \n",
       "3  Medio    13.0       924350.0  Alhué           1     No aplica  \n",
       "4  Medio    13.0       924350.0  Alhué           1     No aplica  "
      ]
     },
     "execution_count": 5,
     "metadata": {},
     "output_type": "execute_result"
    }
   ],
   "source": [
    "# Filtramos por las comunas de la Región Metropolitana\n",
    "\n",
    "def limpiar_comuna(nombre):\n",
    "    nombre = nombre.strip().title()\n",
    "    nombre = nombre.replace('Nunoa', 'Ñuñoa')\n",
    "    nombre = nombre.replace('Penalolen', 'Peñalolén')\n",
    "    nombre = nombre.replace('Peñalolen', 'Peñalolén')\n",
    "    nombre = nombre.replace('Conchali', 'Conchalí')\n",
    "    nombre = nombre.replace('Estacion Central', 'Estación Central')\n",
    "    nombre = nombre.replace('San Joaquin', 'San Joaquín')\n",
    "    nombre = nombre.replace('San Jose De Maipo', 'San José de Maipo')\n",
    "    nombre = nombre.replace('San Ramon', 'San Ramón')\n",
    "    nombre = nombre.replace('Maipu', 'Maipú')\n",
    "    nombre = nombre.replace('Alhue', 'Alhué')\n",
    "    nombre = nombre.replace('Curacavi', 'Curacaví')\n",
    "    if 'Desconocido' in nombre or 'Total' in nombre:\n",
    "        return None\n",
    "    return nombre\n",
    "\n",
    "comunas_rm = [\n",
    "    \"Colina\", \"Lampa\", \"Til-Til\", \"Pirque\", \"Puente Alto\", \"San José de Maipo\",\n",
    "    \"Buin\", \"Calera de Tango\", \"Paine\", \"San Bernardo\", \"Alhué\", \"Curacaví\",\n",
    "    \"María Pinto\", \"Melipilla\", \"San Pedro\", \"Cerrillos\", \"Cerro Navia\",\n",
    "    \"Conchalí\", \"El Bosque\", \"Estación Central\", \"Huechuraba\", \"Independencia\",\n",
    "    \"La Cisterna\", \"La Granja\", \"La Florida\", \"La Pintana\", \"La Reina\",\n",
    "    \"Las Condes\", \"Lo Barnechea\", \"Lo Espejo\", \"Lo Prado\", \"Macul\", \"Maipú\",\n",
    "    \"Ñuñoa\", \"Pedro Aguirre Cerda\", \"Peñalolén\", \"Providencia\", \"Pudahuel\",\n",
    "    \"Quilicura\", \"Quinta Normal\", \"Recoleta\", \"Renca\", \"San Miguel\", \"San Joaquín\",\n",
    "    \"San Ramón\", \"Santiago\", \"Vitacura\", \"El Monte\", \"Isla de Maipo\",\n",
    "    \"Padre Hurtado\", \"Peñaflor\", \"Talagante\"\n",
    "]\n",
    "\n",
    "df_socio['Comuna'] = df_socio['Comuna'].apply(limpiar_comuna)\n",
    "\n",
    "df_socio = df_socio[df_socio['Comuna'].notna()]\n",
    "\n",
    "df_rm = df_socio[df_socio['Comuna'].isin(comunas_rm)].copy()\n",
    "\n",
    "df_rm = df_rm.drop(columns=['folio', 'id_vivienda', 'edad', 'Sexo'])\n",
    "df_rm = df_rm.sort_values(by=['Comuna', 'Año']).reset_index(drop=True)\n",
    "\n",
    "df_rm.head()\n",
    "\n",
    "\n"
   ]
  },
  {
   "cell_type": "code",
   "execution_count": 6,
   "id": "5e96a462",
   "metadata": {},
   "outputs": [
    {
     "name": "stdout",
     "output_type": "stream",
     "text": [
      "<class 'pandas.core.frame.DataFrame'>\n",
      "RangeIndex: 115039 entries, 0 to 115038\n",
      "Data columns (total 10 columns):\n",
      " #   Column                    Non-Null Count   Dtype  \n",
      "---  ------                    --------------   -----  \n",
      " 0   Pobreza Categoria         115039 non-null  object \n",
      " 1   Pobreza_multidimensional  76685 non-null   float64\n",
      " 2   Año                       115039 non-null  int64  \n",
      " 3   Sistema_previsional       114609 non-null  object \n",
      " 4   NSE                       115039 non-null  object \n",
      " 5   region                    115039 non-null  float64\n",
      " 6   Ingreso_hogar             115039 non-null  float64\n",
      " 7   Comuna                    115039 non-null  object \n",
      " 8   id_persona                115039 non-null  int64  \n",
      " 9   pobreza_sinte             115039 non-null  object \n",
      "dtypes: float64(3), int64(2), object(5)\n",
      "memory usage: 8.8+ MB\n"
     ]
    }
   ],
   "source": [
    "df_rm.info()"
   ]
  },
  {
   "cell_type": "code",
   "execution_count": 10,
   "id": "e774b801",
   "metadata": {},
   "outputs": [
    {
     "data": {
      "text/html": [
       "<div>\n",
       "<style scoped>\n",
       "    .dataframe tbody tr th:only-of-type {\n",
       "        vertical-align: middle;\n",
       "    }\n",
       "\n",
       "    .dataframe tbody tr th {\n",
       "        vertical-align: top;\n",
       "    }\n",
       "\n",
       "    .dataframe thead th {\n",
       "        text-align: right;\n",
       "    }\n",
       "</style>\n",
       "<table border=\"1\" class=\"dataframe\">\n",
       "  <thead>\n",
       "    <tr style=\"text-align: right;\">\n",
       "      <th></th>\n",
       "      <th>Pobreza Categoria</th>\n",
       "      <th>Pobreza_multidimensional</th>\n",
       "      <th>Año</th>\n",
       "      <th>Sistema_previsional</th>\n",
       "      <th>NSE</th>\n",
       "      <th>region</th>\n",
       "      <th>Ingreso_hogar</th>\n",
       "      <th>Comuna</th>\n",
       "      <th>id_persona</th>\n",
       "      <th>pobreza_sinte</th>\n",
       "    </tr>\n",
       "  </thead>\n",
       "  <tbody>\n",
       "    <tr>\n",
       "      <th>0</th>\n",
       "      <td>No Pobreza</td>\n",
       "      <td>0.0</td>\n",
       "      <td>2017</td>\n",
       "      <td>Fonasa</td>\n",
       "      <td>Medio</td>\n",
       "      <td>13.0</td>\n",
       "      <td>924350.0</td>\n",
       "      <td>Alhué</td>\n",
       "      <td>1</td>\n",
       "      <td>No aplica</td>\n",
       "    </tr>\n",
       "    <tr>\n",
       "      <th>1</th>\n",
       "      <td>No Pobreza</td>\n",
       "      <td>0.0</td>\n",
       "      <td>2017</td>\n",
       "      <td>Fonasa</td>\n",
       "      <td>Medio</td>\n",
       "      <td>13.0</td>\n",
       "      <td>924350.0</td>\n",
       "      <td>Alhué</td>\n",
       "      <td>1</td>\n",
       "      <td>No aplica</td>\n",
       "    </tr>\n",
       "    <tr>\n",
       "      <th>2</th>\n",
       "      <td>No Pobreza</td>\n",
       "      <td>0.0</td>\n",
       "      <td>2017</td>\n",
       "      <td>Otro sistema</td>\n",
       "      <td>Medio</td>\n",
       "      <td>13.0</td>\n",
       "      <td>924350.0</td>\n",
       "      <td>Alhué</td>\n",
       "      <td>1</td>\n",
       "      <td>No aplica</td>\n",
       "    </tr>\n",
       "    <tr>\n",
       "      <th>3</th>\n",
       "      <td>No Pobreza</td>\n",
       "      <td>0.0</td>\n",
       "      <td>2017</td>\n",
       "      <td>Isapre</td>\n",
       "      <td>Medio</td>\n",
       "      <td>13.0</td>\n",
       "      <td>924350.0</td>\n",
       "      <td>Alhué</td>\n",
       "      <td>1</td>\n",
       "      <td>No aplica</td>\n",
       "    </tr>\n",
       "    <tr>\n",
       "      <th>4</th>\n",
       "      <td>No Pobreza</td>\n",
       "      <td>0.0</td>\n",
       "      <td>2017</td>\n",
       "      <td>Fonasa</td>\n",
       "      <td>Medio</td>\n",
       "      <td>13.0</td>\n",
       "      <td>924350.0</td>\n",
       "      <td>Alhué</td>\n",
       "      <td>1</td>\n",
       "      <td>No aplica</td>\n",
       "    </tr>\n",
       "  </tbody>\n",
       "</table>\n",
       "</div>"
      ],
      "text/plain": [
       "  Pobreza Categoria  Pobreza_multidimensional   Año Sistema_previsional  \\\n",
       "0        No Pobreza                       0.0  2017              Fonasa   \n",
       "1        No Pobreza                       0.0  2017              Fonasa   \n",
       "2        No Pobreza                       0.0  2017        Otro sistema   \n",
       "3        No Pobreza                       0.0  2017              Isapre   \n",
       "4        No Pobreza                       0.0  2017              Fonasa   \n",
       "\n",
       "     NSE  region  Ingreso_hogar Comuna  id_persona pobreza_sinte  \n",
       "0  Medio    13.0       924350.0  Alhué           1     No aplica  \n",
       "1  Medio    13.0       924350.0  Alhué           1     No aplica  \n",
       "2  Medio    13.0       924350.0  Alhué           1     No aplica  \n",
       "3  Medio    13.0       924350.0  Alhué           1     No aplica  \n",
       "4  Medio    13.0       924350.0  Alhué           1     No aplica  "
      ]
     },
     "execution_count": 10,
     "metadata": {},
     "output_type": "execute_result"
    }
   ],
   "source": [
    "df_rm.head()"
   ]
  },
  {
   "cell_type": "code",
   "execution_count": 8,
   "id": "6830c5e4",
   "metadata": {},
   "outputs": [
    {
     "name": "stdout",
     "output_type": "stream",
     "text": [
      "['Alhué', 'Buin', 'Cerrillos', 'Cerro Navia', 'Colina', 'Conchalí', 'Curacaví', 'El Bosque', 'El Monte', 'Estación Central', 'Huechuraba', 'Independencia', 'La Cisterna', 'La Florida', 'La Granja', 'La Pintana', 'La Reina', 'Lampa', 'Las Condes', 'Lo Barnechea', 'Lo Espejo', 'Lo Prado', 'Macul', 'Maipú', 'María Pinto', 'Melipilla', 'Padre Hurtado', 'Paine', 'Pedro Aguirre Cerda', 'Peñaflor', 'Peñalolén', 'Pirque', 'Providencia', 'Pudahuel', 'Puente Alto', 'Quilicura', 'Quinta Normal', 'Recoleta', 'Renca', 'San Bernardo', 'San Joaquín', 'San Miguel', 'San Pedro', 'San Ramón', 'Santiago', 'Talagante', 'Vitacura', 'Ñuñoa']\n"
     ]
    }
   ],
   "source": [
    "# Revisemos, nuevamente, las comunas\n",
    "\n",
    "comunas_socio = df_rm['Comuna'].unique()\n",
    "print(sorted(comunas_socio))"
   ]
  },
  {
   "cell_type": "code",
   "execution_count": 9,
   "id": "6cb5ce06",
   "metadata": {},
   "outputs": [
    {
     "name": "stdout",
     "output_type": "stream",
     "text": [
      "{'Lampa', 'Quinta Normal', 'Curacaví', 'San Ramón', 'Pedro Aguirre Cerda', 'Independencia', 'Cerrillos', 'Padre Hurtado', 'Maipú', 'Renca', 'La Reina', 'San Joaquín', 'Buin', 'Talagante', 'San Pedro', 'El Monte', 'La Pintana', 'La Florida', 'San Bernardo', 'Puente Alto', 'La Cisterna', 'Quilicura', 'Ñuñoa', 'Providencia', 'Conchalí', 'Macul', 'Melipilla', 'Paine', 'Colina', 'Huechuraba', 'Lo Barnechea', 'Pudahuel', 'Estación Central', 'Pirque', 'El Bosque', 'Vitacura', 'Recoleta', 'Las Condes', 'Santiago', 'Lo Prado', 'San Miguel', 'Alhué', 'La Granja', 'Peñalolén', 'Lo Espejo', 'Cerro Navia'}\n"
     ]
    }
   ],
   "source": [
    "comunes = set(df_rm['Comuna'].unique()) & set(df_covid['Comuna'].unique())\n",
    "print(comunes)"
   ]
  },
  {
   "cell_type": "markdown",
   "id": "e7ffcf03",
   "metadata": {},
   "source": [
    "Limpiamos por ultimo los datos nulos de la pobreza_multidemensional para hacer una mejor representatividad de los datos socioeconomicos.\n"
   ]
  },
  {
   "cell_type": "code",
   "execution_count": 11,
   "id": "21360ea8",
   "metadata": {},
   "outputs": [],
   "source": [
    "df_rm = df_rm.dropna(subset=[\"Pobreza_multidimensional\"])"
   ]
  },
  {
   "cell_type": "code",
   "execution_count": 12,
   "id": "1dd5f6a1",
   "metadata": {},
   "outputs": [
    {
     "data": {
      "text/html": [
       "<div>\n",
       "<style scoped>\n",
       "    .dataframe tbody tr th:only-of-type {\n",
       "        vertical-align: middle;\n",
       "    }\n",
       "\n",
       "    .dataframe tbody tr th {\n",
       "        vertical-align: top;\n",
       "    }\n",
       "\n",
       "    .dataframe thead th {\n",
       "        text-align: right;\n",
       "    }\n",
       "</style>\n",
       "<table border=\"1\" class=\"dataframe\">\n",
       "  <thead>\n",
       "    <tr style=\"text-align: right;\">\n",
       "      <th></th>\n",
       "      <th>Pobreza Categoria</th>\n",
       "      <th>Pobreza_multidimensional</th>\n",
       "      <th>Año</th>\n",
       "      <th>Sistema_previsional</th>\n",
       "      <th>NSE</th>\n",
       "      <th>region</th>\n",
       "      <th>Ingreso_hogar</th>\n",
       "      <th>Comuna</th>\n",
       "      <th>id_persona</th>\n",
       "      <th>pobreza_sinte</th>\n",
       "    </tr>\n",
       "  </thead>\n",
       "  <tbody>\n",
       "    <tr>\n",
       "      <th>67861</th>\n",
       "      <td>No Pobreza</td>\n",
       "      <td>0.0</td>\n",
       "      <td>2018</td>\n",
       "      <td>Isapre</td>\n",
       "      <td>Alto</td>\n",
       "      <td>13.0</td>\n",
       "      <td>2716000.0</td>\n",
       "      <td>Providencia</td>\n",
       "      <td>1</td>\n",
       "      <td>No aplica</td>\n",
       "    </tr>\n",
       "    <tr>\n",
       "      <th>58542</th>\n",
       "      <td>No Pobreza</td>\n",
       "      <td>0.0</td>\n",
       "      <td>2023</td>\n",
       "      <td>Isapre</td>\n",
       "      <td>Bajo-medio-alto</td>\n",
       "      <td>13.0</td>\n",
       "      <td>6052924.0</td>\n",
       "      <td>Padre Hurtado</td>\n",
       "      <td>2</td>\n",
       "      <td>No aplica</td>\n",
       "    </tr>\n",
       "    <tr>\n",
       "      <th>19007</th>\n",
       "      <td>No Pobreza</td>\n",
       "      <td>0.0</td>\n",
       "      <td>2022</td>\n",
       "      <td>Isapre</td>\n",
       "      <td>Alto</td>\n",
       "      <td>13.0</td>\n",
       "      <td>4943333.0</td>\n",
       "      <td>La Cisterna</td>\n",
       "      <td>3</td>\n",
       "      <td>No aplica</td>\n",
       "    </tr>\n",
       "    <tr>\n",
       "      <th>84464</th>\n",
       "      <td>No Pobreza</td>\n",
       "      <td>1.0</td>\n",
       "      <td>2022</td>\n",
       "      <td>Ninguno (particular)</td>\n",
       "      <td>Alto</td>\n",
       "      <td>13.0</td>\n",
       "      <td>550000.0</td>\n",
       "      <td>Quilicura</td>\n",
       "      <td>3</td>\n",
       "      <td>No aplica</td>\n",
       "    </tr>\n",
       "    <tr>\n",
       "      <th>2061</th>\n",
       "      <td>No Pobreza</td>\n",
       "      <td>0.0</td>\n",
       "      <td>2017</td>\n",
       "      <td>Fonasa</td>\n",
       "      <td>Medio</td>\n",
       "      <td>13.0</td>\n",
       "      <td>509156.0</td>\n",
       "      <td>Cerrillos</td>\n",
       "      <td>1</td>\n",
       "      <td>No aplica</td>\n",
       "    </tr>\n",
       "  </tbody>\n",
       "</table>\n",
       "</div>"
      ],
      "text/plain": [
       "      Pobreza Categoria  Pobreza_multidimensional   Año   Sistema_previsional  \\\n",
       "67861        No Pobreza                       0.0  2018                Isapre   \n",
       "58542        No Pobreza                       0.0  2023                Isapre   \n",
       "19007        No Pobreza                       0.0  2022                Isapre   \n",
       "84464        No Pobreza                       1.0  2022  Ninguno (particular)   \n",
       "2061         No Pobreza                       0.0  2017                Fonasa   \n",
       "\n",
       "                   NSE  region  Ingreso_hogar         Comuna  id_persona  \\\n",
       "67861             Alto    13.0      2716000.0    Providencia           1   \n",
       "58542  Bajo-medio-alto    13.0      6052924.0  Padre Hurtado           2   \n",
       "19007             Alto    13.0      4943333.0    La Cisterna           3   \n",
       "84464             Alto    13.0       550000.0      Quilicura           3   \n",
       "2061             Medio    13.0       509156.0      Cerrillos           1   \n",
       "\n",
       "      pobreza_sinte  \n",
       "67861     No aplica  \n",
       "58542     No aplica  \n",
       "19007     No aplica  \n",
       "84464     No aplica  \n",
       "2061      No aplica  "
      ]
     },
     "execution_count": 12,
     "metadata": {},
     "output_type": "execute_result"
    }
   ],
   "source": [
    "df_rm.sample(5)"
   ]
  },
  {
   "cell_type": "markdown",
   "id": "fbb4bee4",
   "metadata": {},
   "source": [
    "Finalmente guardamos el dataset socieconomico con los datos de la RM."
   ]
  },
  {
   "cell_type": "code",
   "execution_count": 13,
   "id": "fedd875e",
   "metadata": {},
   "outputs": [],
   "source": [
    "df_rm.to_csv(\"Dataset_Socio_RM.csv\", index=False, encoding='utf-8-sig')"
   ]
  }
 ],
 "metadata": {
  "kernelspec": {
   "display_name": "Python 3",
   "language": "python",
   "name": "python3"
  },
  "language_info": {
   "codemirror_mode": {
    "name": "ipython",
    "version": 3
   },
   "file_extension": ".py",
   "mimetype": "text/x-python",
   "name": "python",
   "nbconvert_exporter": "python",
   "pygments_lexer": "ipython3",
   "version": "3.12.9"
  }
 },
 "nbformat": 4,
 "nbformat_minor": 5
}
