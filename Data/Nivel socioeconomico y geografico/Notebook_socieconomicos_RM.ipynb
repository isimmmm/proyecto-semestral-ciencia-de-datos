{
 "cells": [
  {
   "cell_type": "markdown",
   "id": "0d90a77b",
   "metadata": {},
   "source": [
    "Limpiaremos el dataset unificado de casen, y buscaremos las comunas en comun con el dataset covid datos por comuna, para crear un dataframe de datos socioeconomicos de la region metropolitana que sean pertinentes al proyecto orientado al covid.\n"
   ]
  },
  {
   "cell_type": "code",
   "execution_count": 2,
   "id": "b2998aee",
   "metadata": {},
   "outputs": [
    {
     "name": "stderr",
     "output_type": "stream",
     "text": [
      "C:\\Users\\Liz\\AppData\\Local\\Temp\\ipykernel_5196\\704479933.py:3: DtypeWarning: Columns (13) have mixed types. Specify dtype option on import or set low_memory=False.\n",
      "  df_socio = pd.read_csv('casen_2017_2020_2022_unido.csv')\n"
     ]
    }
   ],
   "source": [
    "import pandas as pd\n",
    "\n",
    "df_socio = pd.read_csv('casen_2017_2020_2022_unido.csv')\n",
    "df_covid = pd.read_csv('covid-19_datos_por_comuna.csv')"
   ]
  },
  {
   "cell_type": "code",
   "execution_count": 3,
   "id": "5169ea85",
   "metadata": {},
   "outputs": [
    {
     "name": "stdout",
     "output_type": "stream",
     "text": [
      "<class 'pandas.core.frame.DataFrame'>\n",
      "RangeIndex: 590836 entries, 0 to 590835\n",
      "Data columns (total 14 columns):\n",
      " #   Column                    Non-Null Count   Dtype  \n",
      "---  ------                    --------------   -----  \n",
      " 0   folio                     590836 non-null  float64\n",
      " 1   id_vivienda               590836 non-null  float64\n",
      " 2   Pobreza Categoria         590836 non-null  object \n",
      " 3   Pobreza_multidimensional  405497 non-null  float64\n",
      " 4   Año                       590836 non-null  int64  \n",
      " 5   Sistema_previsional       588434 non-null  object \n",
      " 6   NSE                       590836 non-null  object \n",
      " 7   region                    590836 non-null  float64\n",
      " 8   edad                      590836 non-null  float64\n",
      " 9   Sexo                      590836 non-null  object \n",
      " 10  Ingreso_hogar             590836 non-null  float64\n",
      " 11  Comuna                    590836 non-null  object \n",
      " 12  id_persona                590836 non-null  int64  \n",
      " 13  pobreza_sinte             590836 non-null  object \n",
      "dtypes: float64(6), int64(2), object(6)\n",
      "memory usage: 63.1+ MB\n"
     ]
    }
   ],
   "source": [
    "df_socio.head()\n",
    "df_socio.info()"
   ]
  },
  {
   "cell_type": "markdown",
   "id": "5fb94a71",
   "metadata": {},
   "source": [
    "Buscamos las comunas unicas de cada dataframe"
   ]
  },
  {
   "cell_type": "code",
   "execution_count": 4,
   "id": "c7aa869b",
   "metadata": {},
   "outputs": [
    {
     "name": "stdout",
     "output_type": "stream",
     "text": [
      "['Aisén', 'Algarrobo', 'Alhué', 'Alto Biobío', 'Alto Hospicio', 'Alto del Carmen', 'Ancud', 'Andacollo', 'Angol', 'Antofagasta', 'Antuco', 'Arauco', 'Arica', 'Buin', 'Bulnes', 'Cabildo', 'Cabo de Hornos', 'Cabrero', 'Calama', 'Calbuco', 'Caldera', 'Calera', 'Calera de Tango', 'Calle Larga', 'Camarones', 'Camiña', 'Canela', 'Carahue', 'Cartagena', 'Casablanca', 'Castro', 'Catemu', 'Cauquenes', 'Cañete', 'Cerrillos', 'Cerro Navia', 'Chanco', 'Chañaral', 'Chiguayante', 'Chile Chico', 'Chillán', 'Chillán Viejo', 'Chimbarongo', 'Cholchol', 'Chonchi', 'Chépica', 'Cisnes', 'Cobquecura', 'Cochrane', 'Codegua', 'Coelemu', 'Coihaique', 'Coihueco', 'Coinco', 'Colbún', 'Colchane', 'Colina', 'Collipulli', 'Coltauco', 'Combarbalá', 'Concepción', 'Conchalí', 'Concón', 'Constitución', 'Contulmo', 'Copiapó', 'Coquimbo', 'Coronel', 'Corral', 'Cunco', 'Curacautín', 'Curacaví', 'Curaco de Vélez', 'Curanilahue', 'Curarrehue', 'Curepto', 'Curicó', 'Dalcahue', 'Diego de Almagro', 'Doñihue', 'El Bosque', 'El Carmen', 'El Monte', 'El Quisco', 'El Tabo', 'Empedrado', 'Ercilla', 'Estación Central', 'Florida', 'Freire', 'Freirina', 'Fresia', 'Frutillar', 'Futrono', 'Galvarino', 'General Lagos', 'Gorbea', 'Graneros', 'Hijuelas', 'Hualañé', 'Hualpén', 'Hualqui', 'Huara', 'Huasco', 'Huechuraba', 'Illapel', 'Independencia', 'Iquique', 'Isla de Maipo', 'La Cisterna', 'La Cruz', 'La Estrella', 'La Florida', 'La Granja', 'La Higuera', 'La Ligua', 'La Pintana', 'La Reina', 'La Serena', 'La Unión', 'Lago Ranco', 'Lago Verde', 'Laguna Blanca', 'Laja', 'Lampa', 'Lanco', 'Las Cabras', 'Las Condes', 'Lautaro', 'Lebu', 'Licantén', 'Limache', 'Linares', 'Litueche', 'Llaillay', 'Llanquihue', 'Lo Barnechea', 'Lo Espejo', 'Lo Prado', 'Lolol', 'Loncoche', 'Longaví', 'Lonquimay', 'Los Alamos', 'Los Andes', 'Los Angeles', 'Los Lagos', 'Los Muermos', 'Los Sauces', 'Los Vilos', 'Lota', 'Lumaco', 'Machalí', 'Macul', 'Maipú', 'Malloa', 'Marchihue', 'Mariquina', 'María Elena', 'María Pinto', 'Maule', 'Maullín', 'Mejillones', 'Melipeuco', 'Melipilla', 'Molina', 'Monte Patria', 'Mostazal', 'Mulchén', 'Máfil', 'Nacimiento', 'Nancagua', 'Natales', 'Navidad', 'Negrete', 'Ninhue', 'Nogales', 'Nueva Imperial', 'Olivar', 'Olmué', 'Osorno', 'Ovalle', 'Padre Hurtado', 'Padre Las Casas', 'Paiguano', 'Paillaco', 'Paine', 'Palmilla', 'Panguipulli', 'Panquehue', 'Papudo', 'Paredones', 'Parral', 'Pedro Aguirre Cerda', 'Pelarco', 'Pelluhue', 'Pemuco', 'Pencahue', 'Penco', 'Peralillo', 'Perquenco', 'Petorca', 'Peumo', 'Peñaflor', 'Peñalolén', 'Pica', 'Pichidegua', 'Pichilemu', 'Pinto', 'Pirque', 'Pitrufquén', 'Placilla', 'Portezuelo', 'Porvenir', 'Pozo Almonte', 'Primavera', 'Providencia', 'Puchuncaví', 'Pucón', 'Pudahuel', 'Puente Alto', 'Puerto Montt', 'Puerto Octay', 'Puerto Varas', 'Pumanque', 'Punitaqui', 'Punta Arenas', 'Puqueldón', 'Purranque', 'Purén', 'Putaendo', 'Putre', 'Puyehue', 'Queilén', 'Quellón', 'Quemchi', 'Quilaco', 'Quilicura', 'Quilleco', 'Quillota', 'Quillón', 'Quilpué', 'Quinchao', 'Quinta Normal', 'Quinta de Tilcoco', 'Quintero', 'Quirihue', 'Rancagua', 'Ranquil', 'Rauco', 'Recoleta', 'Renaico', 'Renca', 'Rengo', 'Requínoa', 'Retiro', 'Rinconada', 'Romeral', 'Río Bueno', 'Río Claro', 'Río Hurtado', 'Río Ibáñez', 'Río Negro', 'Río Verde', 'Saavedra', 'Sagrada Familia', 'Salamanca', 'San Antonio', 'San Bernardo', 'San Carlos', 'San Clemente', 'San Esteban', 'San Fabián', 'San Felipe', 'San Fernando', 'San Gregorio', 'San Ignacio', 'San Javier', 'San Joaquín', 'San José de Maipo', 'San Juan de la Costa', 'San Miguel', 'San Nicolás', 'San Pablo', 'San Pedro', 'San Pedro de Atacama', 'San Pedro de la Paz', 'San Rafael', 'San Ramón', 'San Rosendo', 'San Vicente', 'Santa Bárbara', 'Santa Cruz', 'Santa Juana', 'Santa María', 'Santiago', 'Santo Domingo', 'Sierra Gorda', 'Talagante', 'Talca', 'Talcahuano', 'Taltal', 'Temuco', 'Teno', 'Teodoro Schmidt', 'Tierra Amarilla', 'Tiltil', 'Timaukel', 'Tirúa', 'Tocopilla', 'Toltén', 'Tomé', 'Torres del Paine', 'Tortel', 'Traiguén', 'Treguaco', 'Tucapel', 'Valdivia', 'Vallenar', 'Valparaíso', 'Vichuquén', 'Victoria', 'Vicuña', 'Vilcún', 'Villa Alegre', 'Villa Alemana', 'Villarrica', 'Vitacura', 'Viña del Mar', 'Yerbas Buenas', 'Yumbel', 'Yungay', 'Zapallar', 'Ñiquén', 'Ñuñoa']\n"
     ]
    }
   ],
   "source": [
    "comunas_socio = df_socio['Comuna'].unique()\n",
    "print(sorted(comunas_socio))"
   ]
  },
  {
   "cell_type": "code",
   "execution_count": 5,
   "id": "6f77d1a9",
   "metadata": {},
   "outputs": [
    {
     "name": "stdout",
     "output_type": "stream",
     "text": [
      "['Alhué', 'Buin', 'Calera De Tango', 'Cerrillos', 'Cerro Navia', 'Colina', 'Conchalí', 'Curacaví', 'El Bosque', 'El Monte', 'Estación Central', 'Huechuraba', 'Independencia', 'Isla De Maipo', 'La Cisterna', 'La Florida', 'La Granja', 'La Pintana', 'La Reina', 'Lampa', 'Las Condes', 'Lo Barnechea', 'Lo Espejo', 'Lo Prado', 'Macul', 'Maipú', 'Maria Pinto', 'Melipilla', 'Padre Hurtado', 'Paine', 'Pedro Aguirre Cerda', 'Penaflor', 'Peñalolén', 'Pirque', 'Providencia', 'Pudahuel', 'Puente Alto', 'Quilicura', 'Quinta Normal', 'Recoleta', 'Renca', 'San Bernardo', 'San Joaquín', 'San José de Maipo', 'San Miguel', 'San Pedro', 'San Ramón', 'Santiago', 'Talagante', 'Tiltil', 'Vitacura', 'Ñuñoa']\n"
     ]
    }
   ],
   "source": [
    "comunas_covid = df_covid['Comuna'].unique()\n",
    "print(sorted(comunas_covid))"
   ]
  },
  {
   "cell_type": "code",
   "execution_count": 12,
   "id": "cc8cd5c3",
   "metadata": {},
   "outputs": [
    {
     "data": {
      "text/html": [
       "<div>\n",
       "<style scoped>\n",
       "    .dataframe tbody tr th:only-of-type {\n",
       "        vertical-align: middle;\n",
       "    }\n",
       "\n",
       "    .dataframe tbody tr th {\n",
       "        vertical-align: top;\n",
       "    }\n",
       "\n",
       "    .dataframe thead th {\n",
       "        text-align: right;\n",
       "    }\n",
       "</style>\n",
       "<table border=\"1\" class=\"dataframe\">\n",
       "  <thead>\n",
       "    <tr style=\"text-align: right;\">\n",
       "      <th></th>\n",
       "      <th>Pobreza Categoria</th>\n",
       "      <th>Pobreza_multidimensional</th>\n",
       "      <th>Año</th>\n",
       "      <th>Sistema_previsional</th>\n",
       "      <th>NSE</th>\n",
       "      <th>region</th>\n",
       "      <th>Ingreso_hogar</th>\n",
       "      <th>Comuna</th>\n",
       "      <th>id_persona</th>\n",
       "      <th>pobreza_sinte</th>\n",
       "    </tr>\n",
       "  </thead>\n",
       "  <tbody>\n",
       "    <tr>\n",
       "      <th>0</th>\n",
       "      <td>No Pobreza</td>\n",
       "      <td>0.0</td>\n",
       "      <td>2017</td>\n",
       "      <td>Fonasa</td>\n",
       "      <td>Medio</td>\n",
       "      <td>13.0</td>\n",
       "      <td>924350.0</td>\n",
       "      <td>Alhué</td>\n",
       "      <td>1</td>\n",
       "      <td>No aplica</td>\n",
       "    </tr>\n",
       "    <tr>\n",
       "      <th>1</th>\n",
       "      <td>No Pobreza</td>\n",
       "      <td>0.0</td>\n",
       "      <td>2017</td>\n",
       "      <td>Fonasa</td>\n",
       "      <td>Medio</td>\n",
       "      <td>13.0</td>\n",
       "      <td>924350.0</td>\n",
       "      <td>Alhué</td>\n",
       "      <td>1</td>\n",
       "      <td>No aplica</td>\n",
       "    </tr>\n",
       "    <tr>\n",
       "      <th>2</th>\n",
       "      <td>No Pobreza</td>\n",
       "      <td>0.0</td>\n",
       "      <td>2017</td>\n",
       "      <td>Otro sistema</td>\n",
       "      <td>Medio</td>\n",
       "      <td>13.0</td>\n",
       "      <td>924350.0</td>\n",
       "      <td>Alhué</td>\n",
       "      <td>1</td>\n",
       "      <td>No aplica</td>\n",
       "    </tr>\n",
       "    <tr>\n",
       "      <th>3</th>\n",
       "      <td>No Pobreza</td>\n",
       "      <td>0.0</td>\n",
       "      <td>2017</td>\n",
       "      <td>Isapre</td>\n",
       "      <td>Medio</td>\n",
       "      <td>13.0</td>\n",
       "      <td>924350.0</td>\n",
       "      <td>Alhué</td>\n",
       "      <td>1</td>\n",
       "      <td>No aplica</td>\n",
       "    </tr>\n",
       "    <tr>\n",
       "      <th>4</th>\n",
       "      <td>No Pobreza</td>\n",
       "      <td>0.0</td>\n",
       "      <td>2017</td>\n",
       "      <td>Fonasa</td>\n",
       "      <td>Medio</td>\n",
       "      <td>13.0</td>\n",
       "      <td>924350.0</td>\n",
       "      <td>Alhué</td>\n",
       "      <td>1</td>\n",
       "      <td>No aplica</td>\n",
       "    </tr>\n",
       "  </tbody>\n",
       "</table>\n",
       "</div>"
      ],
      "text/plain": [
       "  Pobreza Categoria  Pobreza_multidimensional   Año Sistema_previsional  \\\n",
       "0        No Pobreza                       0.0  2017              Fonasa   \n",
       "1        No Pobreza                       0.0  2017              Fonasa   \n",
       "2        No Pobreza                       0.0  2017        Otro sistema   \n",
       "3        No Pobreza                       0.0  2017              Isapre   \n",
       "4        No Pobreza                       0.0  2017              Fonasa   \n",
       "\n",
       "     NSE  region  Ingreso_hogar Comuna  id_persona pobreza_sinte  \n",
       "0  Medio    13.0       924350.0  Alhué           1     No aplica  \n",
       "1  Medio    13.0       924350.0  Alhué           1     No aplica  \n",
       "2  Medio    13.0       924350.0  Alhué           1     No aplica  \n",
       "3  Medio    13.0       924350.0  Alhué           1     No aplica  \n",
       "4  Medio    13.0       924350.0  Alhué           1     No aplica  "
      ]
     },
     "execution_count": 12,
     "metadata": {},
     "output_type": "execute_result"
    }
   ],
   "source": [
    "# Filtramos por las comunas de la Región Metropolitana\n",
    "\n",
    "def limpiar_comuna(nombre):\n",
    "    nombre = nombre.strip().title()\n",
    "    nombre = nombre.replace('Nunoa', 'Ñuñoa')\n",
    "    nombre = nombre.replace('Penalolen', 'Peñalolén')\n",
    "    nombre = nombre.replace('Peñalolen', 'Peñalolén')\n",
    "    nombre = nombre.replace('Conchali', 'Conchalí')\n",
    "    nombre = nombre.replace('Estacion Central', 'Estación Central')\n",
    "    nombre = nombre.replace('San Joaquin', 'San Joaquín')\n",
    "    nombre = nombre.replace('San Jose De Maipo', 'San José de Maipo')\n",
    "    nombre = nombre.replace('San Ramon', 'San Ramón')\n",
    "    nombre = nombre.replace('Maipu', 'Maipú')\n",
    "    nombre = nombre.replace('Alhue', 'Alhué')\n",
    "    nombre = nombre.replace('Curacavi', 'Curacaví')\n",
    "    if 'Desconocido' in nombre or 'Total' in nombre:\n",
    "        return None\n",
    "    return nombre\n",
    "\n",
    "comunas_rm = [\n",
    "    \"Colina\", \"Lampa\", \"Til-Til\", \"Pirque\", \"Puente Alto\", \"San José de Maipo\",\n",
    "    \"Buin\", \"Calera de Tango\", \"Paine\", \"San Bernardo\", \"Alhué\", \"Curacaví\",\n",
    "    \"María Pinto\", \"Melipilla\", \"San Pedro\", \"Cerrillos\", \"Cerro Navia\",\n",
    "    \"Conchalí\", \"El Bosque\", \"Estación Central\", \"Huechuraba\", \"Independencia\",\n",
    "    \"La Cisterna\", \"La Granja\", \"La Florida\", \"La Pintana\", \"La Reina\",\n",
    "    \"Las Condes\", \"Lo Barnechea\", \"Lo Espejo\", \"Lo Prado\", \"Macul\", \"Maipú\",\n",
    "    \"Ñuñoa\", \"Pedro Aguirre Cerda\", \"Peñalolén\", \"Providencia\", \"Pudahuel\",\n",
    "    \"Quilicura\", \"Quinta Normal\", \"Recoleta\", \"Renca\", \"San Miguel\", \"San Joaquín\",\n",
    "    \"San Ramón\", \"Santiago\", \"Vitacura\", \"El Monte\", \"Isla de Maipo\",\n",
    "    \"Padre Hurtado\", \"Peñaflor\", \"Talagante\"\n",
    "]\n",
    "\n",
    "df_socio['Comuna'] = df_socio['Comuna'].apply(limpiar_comuna)\n",
    "\n",
    "df_socio = df_socio[df_socio['Comuna'].notna()]\n",
    "\n",
    "df_rm = df_socio[df_socio['Comuna'].isin(comunas_rm)].copy()\n",
    "\n",
    "df_rm = df_rm.drop(columns=['folio', 'id_vivienda', 'edad', 'Sexo'])\n",
    "df_rm = df_rm.sort_values(by=['Comuna', 'Año']).reset_index(drop=True)\n",
    "\n",
    "df_rm.head()\n",
    "\n",
    "\n"
   ]
  },
  {
   "cell_type": "code",
   "execution_count": 13,
   "id": "5e96a462",
   "metadata": {},
   "outputs": [
    {
     "name": "stdout",
     "output_type": "stream",
     "text": [
      "<class 'pandas.core.frame.DataFrame'>\n",
      "RangeIndex: 115039 entries, 0 to 115038\n",
      "Data columns (total 10 columns):\n",
      " #   Column                    Non-Null Count   Dtype  \n",
      "---  ------                    --------------   -----  \n",
      " 0   Pobreza Categoria         115039 non-null  object \n",
      " 1   Pobreza_multidimensional  76685 non-null   float64\n",
      " 2   Año                       115039 non-null  int64  \n",
      " 3   Sistema_previsional       114609 non-null  object \n",
      " 4   NSE                       115039 non-null  object \n",
      " 5   region                    115039 non-null  float64\n",
      " 6   Ingreso_hogar             115039 non-null  float64\n",
      " 7   Comuna                    115039 non-null  object \n",
      " 8   id_persona                115039 non-null  int64  \n",
      " 9   pobreza_sinte             115039 non-null  object \n",
      "dtypes: float64(3), int64(2), object(5)\n",
      "memory usage: 8.8+ MB\n"
     ]
    }
   ],
   "source": [
    "df_rm.info()"
   ]
  },
  {
   "cell_type": "code",
   "execution_count": 14,
   "id": "e774b801",
   "metadata": {},
   "outputs": [
    {
     "data": {
      "text/html": [
       "<div>\n",
       "<style scoped>\n",
       "    .dataframe tbody tr th:only-of-type {\n",
       "        vertical-align: middle;\n",
       "    }\n",
       "\n",
       "    .dataframe tbody tr th {\n",
       "        vertical-align: top;\n",
       "    }\n",
       "\n",
       "    .dataframe thead th {\n",
       "        text-align: right;\n",
       "    }\n",
       "</style>\n",
       "<table border=\"1\" class=\"dataframe\">\n",
       "  <thead>\n",
       "    <tr style=\"text-align: right;\">\n",
       "      <th></th>\n",
       "      <th>folio</th>\n",
       "      <th>id_vivienda</th>\n",
       "      <th>Pobreza Categoria</th>\n",
       "      <th>Pobreza_multidimensional</th>\n",
       "      <th>Año</th>\n",
       "      <th>Sistema_previsional</th>\n",
       "      <th>NSE</th>\n",
       "      <th>region</th>\n",
       "      <th>edad</th>\n",
       "      <th>Sexo</th>\n",
       "      <th>Ingreso_hogar</th>\n",
       "      <th>Comuna</th>\n",
       "      <th>id_persona</th>\n",
       "      <th>pobreza_sinte</th>\n",
       "    </tr>\n",
       "  </thead>\n",
       "  <tbody>\n",
       "    <tr>\n",
       "      <th>0</th>\n",
       "      <td>1.101100e+11</td>\n",
       "      <td>1.101100e+09</td>\n",
       "      <td>No Pobreza</td>\n",
       "      <td>1.0</td>\n",
       "      <td>2017</td>\n",
       "      <td>Ninguno (particular)</td>\n",
       "      <td>Medio</td>\n",
       "      <td>1.0</td>\n",
       "      <td>21.0</td>\n",
       "      <td>Mujer</td>\n",
       "      <td>211091.0</td>\n",
       "      <td>Iquique</td>\n",
       "      <td>1</td>\n",
       "      <td>No aplica</td>\n",
       "    </tr>\n",
       "    <tr>\n",
       "      <th>1</th>\n",
       "      <td>1.101100e+11</td>\n",
       "      <td>1.101100e+09</td>\n",
       "      <td>No Pobreza</td>\n",
       "      <td>1.0</td>\n",
       "      <td>2017</td>\n",
       "      <td>Fonasa</td>\n",
       "      <td>Bajo-medio-alto</td>\n",
       "      <td>1.0</td>\n",
       "      <td>62.0</td>\n",
       "      <td>Mujer</td>\n",
       "      <td>463333.0</td>\n",
       "      <td>Iquique</td>\n",
       "      <td>1</td>\n",
       "      <td>No aplica</td>\n",
       "    </tr>\n",
       "    <tr>\n",
       "      <th>2</th>\n",
       "      <td>1.101100e+11</td>\n",
       "      <td>1.101100e+09</td>\n",
       "      <td>No Pobreza</td>\n",
       "      <td>1.0</td>\n",
       "      <td>2017</td>\n",
       "      <td>Fonasa</td>\n",
       "      <td>Bajo-medio-alto</td>\n",
       "      <td>1.0</td>\n",
       "      <td>36.0</td>\n",
       "      <td>Mujer</td>\n",
       "      <td>463333.0</td>\n",
       "      <td>Iquique</td>\n",
       "      <td>1</td>\n",
       "      <td>No aplica</td>\n",
       "    </tr>\n",
       "    <tr>\n",
       "      <th>3</th>\n",
       "      <td>1.101100e+11</td>\n",
       "      <td>1.101100e+09</td>\n",
       "      <td>No Pobreza</td>\n",
       "      <td>0.0</td>\n",
       "      <td>2018</td>\n",
       "      <td>Fonasa</td>\n",
       "      <td>Medio</td>\n",
       "      <td>1.0</td>\n",
       "      <td>75.0</td>\n",
       "      <td>Hombre</td>\n",
       "      <td>438259.0</td>\n",
       "      <td>Iquique</td>\n",
       "      <td>1</td>\n",
       "      <td>No aplica</td>\n",
       "    </tr>\n",
       "    <tr>\n",
       "      <th>4</th>\n",
       "      <td>1.101100e+11</td>\n",
       "      <td>1.101100e+09</td>\n",
       "      <td>No Pobreza</td>\n",
       "      <td>0.0</td>\n",
       "      <td>2017</td>\n",
       "      <td>Fonasa</td>\n",
       "      <td>Bajo-medio-alto</td>\n",
       "      <td>1.0</td>\n",
       "      <td>24.0</td>\n",
       "      <td>Mujer</td>\n",
       "      <td>420000.0</td>\n",
       "      <td>Iquique</td>\n",
       "      <td>1</td>\n",
       "      <td>No aplica</td>\n",
       "    </tr>\n",
       "  </tbody>\n",
       "</table>\n",
       "</div>"
      ],
      "text/plain": [
       "          folio   id_vivienda Pobreza Categoria  Pobreza_multidimensional  \\\n",
       "0  1.101100e+11  1.101100e+09        No Pobreza                       1.0   \n",
       "1  1.101100e+11  1.101100e+09        No Pobreza                       1.0   \n",
       "2  1.101100e+11  1.101100e+09        No Pobreza                       1.0   \n",
       "3  1.101100e+11  1.101100e+09        No Pobreza                       0.0   \n",
       "4  1.101100e+11  1.101100e+09        No Pobreza                       0.0   \n",
       "\n",
       "    Año   Sistema_previsional              NSE  region  edad    Sexo  \\\n",
       "0  2017  Ninguno (particular)            Medio     1.0  21.0   Mujer   \n",
       "1  2017                Fonasa  Bajo-medio-alto     1.0  62.0   Mujer   \n",
       "2  2017                Fonasa  Bajo-medio-alto     1.0  36.0   Mujer   \n",
       "3  2018                Fonasa            Medio     1.0  75.0  Hombre   \n",
       "4  2017                Fonasa  Bajo-medio-alto     1.0  24.0   Mujer   \n",
       "\n",
       "   Ingreso_hogar   Comuna  id_persona pobreza_sinte  \n",
       "0       211091.0  Iquique           1     No aplica  \n",
       "1       463333.0  Iquique           1     No aplica  \n",
       "2       463333.0  Iquique           1     No aplica  \n",
       "3       438259.0  Iquique           1     No aplica  \n",
       "4       420000.0  Iquique           1     No aplica  "
      ]
     },
     "execution_count": 14,
     "metadata": {},
     "output_type": "execute_result"
    }
   ],
   "source": [
    "df_socio.head()"
   ]
  },
  {
   "cell_type": "code",
   "execution_count": 15,
   "id": "6830c5e4",
   "metadata": {},
   "outputs": [
    {
     "name": "stdout",
     "output_type": "stream",
     "text": [
      "['Alhué', 'Buin', 'Cerrillos', 'Cerro Navia', 'Colina', 'Conchalí', 'Curacaví', 'El Bosque', 'El Monte', 'Estación Central', 'Huechuraba', 'Independencia', 'La Cisterna', 'La Florida', 'La Granja', 'La Pintana', 'La Reina', 'Lampa', 'Las Condes', 'Lo Barnechea', 'Lo Espejo', 'Lo Prado', 'Macul', 'Maipú', 'María Pinto', 'Melipilla', 'Padre Hurtado', 'Paine', 'Pedro Aguirre Cerda', 'Peñaflor', 'Peñalolén', 'Pirque', 'Providencia', 'Pudahuel', 'Puente Alto', 'Quilicura', 'Quinta Normal', 'Recoleta', 'Renca', 'San Bernardo', 'San Joaquín', 'San Miguel', 'San Pedro', 'San Ramón', 'Santiago', 'Talagante', 'Vitacura', 'Ñuñoa']\n"
     ]
    }
   ],
   "source": [
    "# Revisemos, nuevamente, las comunas\n",
    "\n",
    "comunas_socio = df_rm['Comuna'].unique()\n",
    "print(sorted(comunas_socio))"
   ]
  },
  {
   "cell_type": "code",
   "execution_count": 16,
   "id": "6cb5ce06",
   "metadata": {},
   "outputs": [
    {
     "name": "stdout",
     "output_type": "stream",
     "text": [
      "{'Melipilla', 'Macul', 'Puente Alto', 'El Monte', 'San Joaquín', 'Peñalolén', 'Quilicura', 'La Florida', 'San Ramón', 'El Bosque', 'Cerro Navia', 'Cerrillos', 'La Reina', 'San Bernardo', 'Talagante', 'La Pintana', 'Independencia', 'Renca', 'Paine', 'Santiago', 'Estación Central', 'Pedro Aguirre Cerda', 'Recoleta', 'Providencia', 'Curacaví', 'Pudahuel', 'San Miguel', 'San Pedro', 'Lo Barnechea', 'La Cisterna', 'Lampa', 'Las Condes', 'Lo Prado', 'Pirque', 'Conchalí', 'Lo Espejo', 'La Granja', 'Buin', 'Vitacura', 'Huechuraba', 'Alhué', 'Colina', 'Maipú', 'Padre Hurtado', 'Ñuñoa', 'Quinta Normal'}\n"
     ]
    }
   ],
   "source": [
    "comunes = set(df_rm['Comuna'].unique()) & set(df_covid['Comuna'].unique())\n",
    "print(comunes)"
   ]
  },
  {
   "cell_type": "markdown",
   "id": "fbb4bee4",
   "metadata": {},
   "source": [
    "Finalmente guardamos el dataset socieconomico con los datos de la RM."
   ]
  },
  {
   "cell_type": "code",
   "execution_count": 17,
   "id": "fedd875e",
   "metadata": {},
   "outputs": [],
   "source": [
    "df_rm.to_csv(\"Dataset_Socio_RM.csv\", index=False, encoding='utf-8-sig')"
   ]
  }
 ],
 "metadata": {
  "kernelspec": {
   "display_name": "Python 3",
   "language": "python",
   "name": "python3"
  },
  "language_info": {
   "codemirror_mode": {
    "name": "ipython",
    "version": 3
   },
   "file_extension": ".py",
   "mimetype": "text/x-python",
   "name": "python",
   "nbconvert_exporter": "python",
   "pygments_lexer": "ipython3",
   "version": "3.12.9"
  }
 },
 "nbformat": 4,
 "nbformat_minor": 5
}
