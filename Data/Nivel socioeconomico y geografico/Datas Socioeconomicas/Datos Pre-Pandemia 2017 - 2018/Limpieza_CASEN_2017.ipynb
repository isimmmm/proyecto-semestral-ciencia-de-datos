{
 "cells": [
  {
   "cell_type": "markdown",
   "id": "fd6cf48d",
   "metadata": {},
   "source": [
    "Primero trasnformamos desde STATA a CSV."
   ]
  },
  {
   "cell_type": "code",
   "execution_count": 1,
   "id": "447153f6",
   "metadata": {},
   "outputs": [
    {
     "name": "stderr",
     "output_type": "stream",
     "text": [
      "C:\\Users\\Liz\\AppData\\Local\\Temp\\ipykernel_15680\\4034272276.py:8: FutureWarning: The StataReader.close() method is not part of the public API and will be removed in a future version without notice. Using StataReader as a context manager is the only supported method.\n",
      "  reader.close()\n"
     ]
    },
    {
     "name": "stdout",
     "output_type": "stream",
     "text": [
      "216439 filas guardadas\n"
     ]
    }
   ],
   "source": [
    "import pandas as pd\n",
    "\n",
    "# Leer sin convertir categorías\n",
    "df = pd.read_stata(\"casen_datos_2017.dta\", convert_categoricals=False)\n",
    "\n",
    "reader = pd.io.stata.StataReader(\"casen_datos_2017.dta\")\n",
    "value_labels = reader.value_labels()\n",
    "reader.close()\n",
    "\n",
    "# Guardar\n",
    "df.to_csv(\"CASEN__2017.csv\", index=False, encoding='utf-8-sig')\n",
    "print(f\"{len(df)} filas guardadas\")"
   ]
  },
  {
   "cell_type": "code",
   "execution_count": 2,
   "id": "aae053dd",
   "metadata": {},
   "outputs": [
    {
     "data": {
      "text/html": [
       "<div>\n",
       "<style scoped>\n",
       "    .dataframe tbody tr th:only-of-type {\n",
       "        vertical-align: middle;\n",
       "    }\n",
       "\n",
       "    .dataframe tbody tr th {\n",
       "        vertical-align: top;\n",
       "    }\n",
       "\n",
       "    .dataframe thead th {\n",
       "        text-align: right;\n",
       "    }\n",
       "</style>\n",
       "<table border=\"1\" class=\"dataframe\">\n",
       "  <thead>\n",
       "    <tr style=\"text-align: right;\">\n",
       "      <th></th>\n",
       "      <th>folio</th>\n",
       "      <th>o</th>\n",
       "      <th>id_vivienda</th>\n",
       "      <th>hogar</th>\n",
       "      <th>region</th>\n",
       "      <th>provincia</th>\n",
       "      <th>comuna</th>\n",
       "      <th>zona</th>\n",
       "      <th>expr</th>\n",
       "      <th>expc</th>\n",
       "      <th>...</th>\n",
       "      <th>hh_d_estado</th>\n",
       "      <th>hh_d_servbas</th>\n",
       "      <th>hh_d_entorno</th>\n",
       "      <th>hh_d_accesi</th>\n",
       "      <th>hh_d_medio</th>\n",
       "      <th>hh_d_appart</th>\n",
       "      <th>hh_d_tsocial</th>\n",
       "      <th>hh_d_seg</th>\n",
       "      <th>pobreza_multi_4d</th>\n",
       "      <th>pobreza_multi_5d</th>\n",
       "    </tr>\n",
       "  </thead>\n",
       "  <tbody>\n",
       "    <tr>\n",
       "      <th>0</th>\n",
       "      <td>1.101100e+11</td>\n",
       "      <td>1.0</td>\n",
       "      <td>1.101100e+09</td>\n",
       "      <td>1.0</td>\n",
       "      <td>1.0</td>\n",
       "      <td>11.0</td>\n",
       "      <td>1101.0</td>\n",
       "      <td>1.0</td>\n",
       "      <td>39.0</td>\n",
       "      <td>33.0</td>\n",
       "      <td>...</td>\n",
       "      <td>0.0</td>\n",
       "      <td>1.0</td>\n",
       "      <td>1.0</td>\n",
       "      <td>0.0</td>\n",
       "      <td>1.0</td>\n",
       "      <td>0.0</td>\n",
       "      <td>0.0</td>\n",
       "      <td>1.0</td>\n",
       "      <td>NaN</td>\n",
       "      <td>NaN</td>\n",
       "    </tr>\n",
       "    <tr>\n",
       "      <th>1</th>\n",
       "      <td>1.101100e+11</td>\n",
       "      <td>1.0</td>\n",
       "      <td>1.101100e+09</td>\n",
       "      <td>1.0</td>\n",
       "      <td>1.0</td>\n",
       "      <td>11.0</td>\n",
       "      <td>1101.0</td>\n",
       "      <td>1.0</td>\n",
       "      <td>39.0</td>\n",
       "      <td>33.0</td>\n",
       "      <td>...</td>\n",
       "      <td>1.0</td>\n",
       "      <td>0.0</td>\n",
       "      <td>0.0</td>\n",
       "      <td>0.0</td>\n",
       "      <td>0.0</td>\n",
       "      <td>0.0</td>\n",
       "      <td>0.0</td>\n",
       "      <td>0.0</td>\n",
       "      <td>1.0</td>\n",
       "      <td>1.0</td>\n",
       "    </tr>\n",
       "    <tr>\n",
       "      <th>2</th>\n",
       "      <td>1.101100e+11</td>\n",
       "      <td>1.0</td>\n",
       "      <td>1.101100e+09</td>\n",
       "      <td>1.0</td>\n",
       "      <td>1.0</td>\n",
       "      <td>11.0</td>\n",
       "      <td>1101.0</td>\n",
       "      <td>1.0</td>\n",
       "      <td>39.0</td>\n",
       "      <td>33.0</td>\n",
       "      <td>...</td>\n",
       "      <td>1.0</td>\n",
       "      <td>0.0</td>\n",
       "      <td>1.0</td>\n",
       "      <td>0.0</td>\n",
       "      <td>1.0</td>\n",
       "      <td>0.0</td>\n",
       "      <td>1.0</td>\n",
       "      <td>1.0</td>\n",
       "      <td>NaN</td>\n",
       "      <td>NaN</td>\n",
       "    </tr>\n",
       "    <tr>\n",
       "      <th>3</th>\n",
       "      <td>1.101100e+11</td>\n",
       "      <td>2.0</td>\n",
       "      <td>1.101100e+09</td>\n",
       "      <td>1.0</td>\n",
       "      <td>1.0</td>\n",
       "      <td>11.0</td>\n",
       "      <td>1101.0</td>\n",
       "      <td>1.0</td>\n",
       "      <td>39.0</td>\n",
       "      <td>33.0</td>\n",
       "      <td>...</td>\n",
       "      <td>1.0</td>\n",
       "      <td>0.0</td>\n",
       "      <td>1.0</td>\n",
       "      <td>0.0</td>\n",
       "      <td>1.0</td>\n",
       "      <td>0.0</td>\n",
       "      <td>1.0</td>\n",
       "      <td>1.0</td>\n",
       "      <td>NaN</td>\n",
       "      <td>NaN</td>\n",
       "    </tr>\n",
       "    <tr>\n",
       "      <th>4</th>\n",
       "      <td>1.101100e+11</td>\n",
       "      <td>1.0</td>\n",
       "      <td>1.101100e+09</td>\n",
       "      <td>1.0</td>\n",
       "      <td>1.0</td>\n",
       "      <td>11.0</td>\n",
       "      <td>1101.0</td>\n",
       "      <td>1.0</td>\n",
       "      <td>39.0</td>\n",
       "      <td>33.0</td>\n",
       "      <td>...</td>\n",
       "      <td>1.0</td>\n",
       "      <td>1.0</td>\n",
       "      <td>1.0</td>\n",
       "      <td>0.0</td>\n",
       "      <td>1.0</td>\n",
       "      <td>NaN</td>\n",
       "      <td>1.0</td>\n",
       "      <td>0.0</td>\n",
       "      <td>0.0</td>\n",
       "      <td>NaN</td>\n",
       "    </tr>\n",
       "  </tbody>\n",
       "</table>\n",
       "<p>5 rows × 804 columns</p>\n",
       "</div>"
      ],
      "text/plain": [
       "          folio    o   id_vivienda  hogar  region  provincia  comuna  zona  \\\n",
       "0  1.101100e+11  1.0  1.101100e+09    1.0     1.0       11.0  1101.0   1.0   \n",
       "1  1.101100e+11  1.0  1.101100e+09    1.0     1.0       11.0  1101.0   1.0   \n",
       "2  1.101100e+11  1.0  1.101100e+09    1.0     1.0       11.0  1101.0   1.0   \n",
       "3  1.101100e+11  2.0  1.101100e+09    1.0     1.0       11.0  1101.0   1.0   \n",
       "4  1.101100e+11  1.0  1.101100e+09    1.0     1.0       11.0  1101.0   1.0   \n",
       "\n",
       "   expr  expc  ...  hh_d_estado  hh_d_servbas  hh_d_entorno  hh_d_accesi  \\\n",
       "0  39.0  33.0  ...          0.0           1.0           1.0          0.0   \n",
       "1  39.0  33.0  ...          1.0           0.0           0.0          0.0   \n",
       "2  39.0  33.0  ...          1.0           0.0           1.0          0.0   \n",
       "3  39.0  33.0  ...          1.0           0.0           1.0          0.0   \n",
       "4  39.0  33.0  ...          1.0           1.0           1.0          0.0   \n",
       "\n",
       "   hh_d_medio  hh_d_appart  hh_d_tsocial  hh_d_seg  pobreza_multi_4d  \\\n",
       "0         1.0          0.0           0.0       1.0               NaN   \n",
       "1         0.0          0.0           0.0       0.0               1.0   \n",
       "2         1.0          0.0           1.0       1.0               NaN   \n",
       "3         1.0          0.0           1.0       1.0               NaN   \n",
       "4         1.0          NaN           1.0       0.0               0.0   \n",
       "\n",
       "   pobreza_multi_5d  \n",
       "0               NaN  \n",
       "1               1.0  \n",
       "2               NaN  \n",
       "3               NaN  \n",
       "4               NaN  \n",
       "\n",
       "[5 rows x 804 columns]"
      ]
     },
     "execution_count": 2,
     "metadata": {},
     "output_type": "execute_result"
    }
   ],
   "source": [
    "df.head()"
   ]
  },
  {
   "cell_type": "code",
   "execution_count": 25,
   "id": "bbef5c2d",
   "metadata": {},
   "outputs": [
    {
     "name": "stdout",
     "output_type": "stream",
     "text": [
      "<class 'pandas.core.frame.DataFrame'>\n",
      "RangeIndex: 216439 entries, 0 to 216438\n",
      "Columns: 810 entries, folio to Sexo\n",
      "dtypes: float64(768), int64(1), object(41)\n",
      "memory usage: 1.3+ GB\n"
     ]
    }
   ],
   "source": [
    "df.info()"
   ]
  },
  {
   "cell_type": "markdown",
   "id": "d3fda805",
   "metadata": {},
   "source": [
    "Ver datos de pobreza."
   ]
  },
  {
   "cell_type": "code",
   "execution_count": 3,
   "id": "1009b09d",
   "metadata": {},
   "outputs": [
    {
     "name": "stdout",
     "output_type": "stream",
     "text": [
      "True\n",
      "pobreza\n",
      "3.0    195357\n",
      "2.0     15260\n",
      "1.0      5614\n",
      "Name: count, dtype: int64\n",
      "True\n",
      "pobreza_multi_5d\n",
      "0.0    161600\n",
      "1.0     44972\n",
      "Name: count, dtype: int64\n"
     ]
    }
   ],
   "source": [
    "print('pobreza' in df.columns)\n",
    "print(df['pobreza'].value_counts())\n",
    "print('pobreza_multi_5d' in df.columns)\n",
    "print(df['pobreza_multi_5d'].value_counts())\n"
   ]
  },
  {
   "cell_type": "code",
   "execution_count": 6,
   "id": "8988f7df",
   "metadata": {},
   "outputs": [],
   "source": [
    "import numpy as np"
   ]
  },
  {
   "cell_type": "code",
   "execution_count": 16,
   "id": "585425b5",
   "metadata": {},
   "outputs": [
    {
     "name": "stderr",
     "output_type": "stream",
     "text": [
      "C:\\Users\\Liz\\AppData\\Local\\Temp\\ipykernel_15680\\432033060.py:23: PerformanceWarning: DataFrame is highly fragmented.  This is usually the result of calling `frame.insert` many times, which has poor performance.  Consider joining all columns at once using pd.concat(axis=1) instead. To get a de-fragmented frame, use `newframe = frame.copy()`\n",
      "  df['nse_calculado'] = np.select(conditions, choices, default=4)  # Por defecto Bajo-medio\n",
      "C:\\Users\\Liz\\AppData\\Local\\Temp\\ipykernel_15680\\432033060.py:24: PerformanceWarning: DataFrame is highly fragmented.  This is usually the result of calling `frame.insert` many times, which has poor performance.  Consider joining all columns at once using pd.concat(axis=1) instead. To get a de-fragmented frame, use `newframe = frame.copy()`\n",
      "  df['Nivel socioeconomico'] = df['nse_calculado'].map(mapeo_texto)\n"
     ]
    }
   ],
   "source": [
    "\n",
    "mapeo_texto = {\n",
    "    1: 'Bajo',\n",
    "    2: 'Medio', \n",
    "    3: 'Alto',\n",
    "    4: 'Bajo-medio',\n",
    "    5: 'Bajo-alto',\n",
    "    6: 'Bajo-medio-alto',\n",
    "    7: 'Medio-alto'\n",
    "}\n",
    "\n",
    "conditions = [\n",
    "    df['pobreza'] == 1,                                      # 1 - Bajo (Indigentes)\n",
    "    df['pobreza'] == 2,                                      # 4 - Bajo-medio (Pobres)\n",
    "    (df['pobreza'] == 3) & (df['ypchautcor'] >= df['ypchautcor'].quantile(0.90)),  # 3 - Alto\n",
    "    (df['pobreza'] == 3) & (df['ypchautcor'] >= df['ypchautcor'].quantile(0.75)),  # 7 - Medio-alto\n",
    "    (df['pobreza'] == 3) & (df['ypchautcor'] >= df['ypchautcor'].quantile(0.60)),  # 6 - Bajo-medio-alto\n",
    "    (df['pobreza'] == 3) & (df['ypchautcor'] >= df['ypchautcor'].quantile(0.40)),  # 2 - Medio\n",
    "    (df['pobreza'] == 3) & (df['ypchautcor'] >= df['ypchautcor'].quantile(0.25)),  # 5 - Bajo-alto\n",
    "]\n",
    "\n",
    "choices = [1, 4, 3, 7, 6, 2, 5]\n",
    "\n",
    "df['nse_calculado'] = np.select(conditions, choices, default=4)  # Por defecto Bajo-medio\n",
    "df['Nivel socioeconomico'] = df['nse_calculado'].map(mapeo_texto)"
   ]
  },
  {
   "cell_type": "code",
   "execution_count": 33,
   "id": "cb4e07bf",
   "metadata": {},
   "outputs": [],
   "source": [
    "mapeo_sistema_pro = {\n",
    "    99: 'no sabe',\n",
    "    1: 'Fonasa', \n",
    "    2: 'Fonasa',\n",
    "    3: 'Fonasa',\n",
    "    4: 'Fonasa',\n",
    "    5: 'Fonasa',\n",
    "    6: 'FF.AA. y del Orden',\n",
    "    7: 'Isapre',\n",
    "    8: 'Ninguno (particular)',\n",
    "    9: 'Otro sistema'\n",
    "}\n",
    "\n",
    "# Aplicar el mapeo\n",
    "df['Sistema Provisional'] = df['s12'].map(mapeo_sistema_pro)"
   ]
  },
  {
   "cell_type": "code",
   "execution_count": 18,
   "id": "73b481c3",
   "metadata": {},
   "outputs": [
    {
     "name": "stderr",
     "output_type": "stream",
     "text": [
      "C:\\Users\\Liz\\AppData\\Local\\Temp\\ipykernel_15680\\3783429643.py:6: PerformanceWarning: DataFrame is highly fragmented.  This is usually the result of calling `frame.insert` many times, which has poor performance.  Consider joining all columns at once using pd.concat(axis=1) instead. To get a de-fragmented frame, use `newframe = frame.copy()`\n",
      "  df['Pobreza'] = df['pobreza'].map(mapeo_pobreza)\n"
     ]
    }
   ],
   "source": [
    "mapeo_pobreza = {\n",
    "    1: 'Pobreza Extrema',\n",
    "    2: 'Pobreza No Extrema', \n",
    "    3: 'No Pobreza'\n",
    "}\n",
    "df['Pobreza'] = df['pobreza'].map(mapeo_pobreza)"
   ]
  },
  {
   "cell_type": "code",
   "execution_count": 19,
   "id": "e2574dfc",
   "metadata": {},
   "outputs": [
    {
     "name": "stderr",
     "output_type": "stream",
     "text": [
      "C:\\Users\\Liz\\AppData\\Local\\Temp\\ipykernel_15680\\1727529262.py:7: PerformanceWarning: DataFrame is highly fragmented.  This is usually the result of calling `frame.insert` many times, which has poor performance.  Consider joining all columns at once using pd.concat(axis=1) instead. To get a de-fragmented frame, use `newframe = frame.copy()`\n",
      "  df['Sexo'] = df['sexo'].map(mapeo_sexo)\n"
     ]
    }
   ],
   "source": [
    "mapeo_sexo = {\n",
    "    1: 'Hombre',\n",
    "    2: 'Mujer'\n",
    "}\n",
    "\n",
    "# Aplicar el mapeo\n",
    "df['Sexo'] = df['sexo'].map(mapeo_sexo)"
   ]
  },
  {
   "cell_type": "code",
   "execution_count": 26,
   "id": "9b19b422",
   "metadata": {},
   "outputs": [
    {
     "name": "stdout",
     "output_type": "stream",
     "text": [
      "True\n"
     ]
    }
   ],
   "source": [
    "print('fecha_año' in df.columns)"
   ]
  },
  {
   "cell_type": "code",
   "execution_count": 28,
   "id": "57dd67f0",
   "metadata": {},
   "outputs": [
    {
     "name": "stdout",
     "output_type": "stream",
     "text": [
      "<class 'pandas.core.series.Series'>\n",
      "RangeIndex: 216439 entries, 0 to 216438\n",
      "Series name: fecha_año\n",
      "Non-Null Count   Dtype  \n",
      "--------------   -----  \n",
      "216439 non-null  float64\n",
      "dtypes: float64(1)\n",
      "memory usage: 1.7 MB\n"
     ]
    }
   ],
   "source": [
    "df['fecha_año'].info()"
   ]
  },
  {
   "cell_type": "code",
   "execution_count": 29,
   "id": "57d3c072",
   "metadata": {},
   "outputs": [
    {
     "name": "stderr",
     "output_type": "stream",
     "text": [
      "C:\\Users\\Liz\\AppData\\Local\\Temp\\ipykernel_15680\\4173714429.py:1: PerformanceWarning: DataFrame is highly fragmented.  This is usually the result of calling `frame.insert` many times, which has poor performance.  Consider joining all columns at once using pd.concat(axis=1) instead. To get a de-fragmented frame, use `newframe = frame.copy()`\n",
      "  df['Año'] = df['fecha_año'].astype(int)\n",
      "C:\\Users\\Liz\\AppData\\Local\\Temp\\ipykernel_15680\\4173714429.py:2: PerformanceWarning: DataFrame is highly fragmented.  This is usually the result of calling `frame.insert` many times, which has poor performance.  Consider joining all columns at once using pd.concat(axis=1) instead. To get a de-fragmented frame, use `newframe = frame.copy()`\n",
      "  df['Ingreso por Hogar'] = df['ytotcorh']\n"
     ]
    }
   ],
   "source": [
    "df['Año'] = df['fecha_año'].astype(int)\n",
    "df['Ingreso por Hogar'] = df['ytotcorh']"
   ]
  },
  {
   "cell_type": "code",
   "execution_count": 30,
   "id": "db77906a",
   "metadata": {},
   "outputs": [
    {
     "name": "stdout",
     "output_type": "stream",
     "text": [
      "<class 'pandas.core.series.Series'>\n",
      "RangeIndex: 216439 entries, 0 to 216438\n",
      "Series name: Año\n",
      "Non-Null Count   Dtype\n",
      "--------------   -----\n",
      "216439 non-null  int64\n",
      "dtypes: int64(1)\n",
      "memory usage: 1.7 MB\n"
     ]
    }
   ],
   "source": [
    "df['Año'].info()"
   ]
  },
  {
   "cell_type": "code",
   "execution_count": 36,
   "id": "43ea793e",
   "metadata": {},
   "outputs": [
    {
     "name": "stderr",
     "output_type": "stream",
     "text": [
      "C:\\Users\\Liz\\AppData\\Local\\Temp\\ipykernel_15680\\2205339598.py:1: PerformanceWarning: DataFrame is highly fragmented.  This is usually the result of calling `frame.insert` many times, which has poor performance.  Consider joining all columns at once using pd.concat(axis=1) instead. To get a de-fragmented frame, use `newframe = frame.copy()`\n",
      "  df['Pobreza Multidimensional'] = df['pobreza_multi_5d']\n"
     ]
    }
   ],
   "source": [
    "df['Pobreza Multidimensional'] = df['pobreza_multi_5d']"
   ]
  },
  {
   "cell_type": "markdown",
   "id": "bb363fb5",
   "metadata": {},
   "source": [
    "Creamos el dataframe de pobreza y limpiamos valores nulos"
   ]
  },
  {
   "cell_type": "code",
   "execution_count": 38,
   "id": "777e4aa7",
   "metadata": {},
   "outputs": [],
   "source": [
    "# Variables correctas disponibles\n",
    "variables_necesarias = ['folio', 'id_vivienda', 'Pobreza', 'Pobreza Multidimensional','Año','Sistema Provisional','comuna',\n",
    "                        'Nivel socioeconomico', 'region', 'edad', 'Sexo', 'Ingreso por Hogar']\n",
    "\n",
    "df_pobreza = df[variables_necesarias].copy()\n",
    "\n",
    "# Eliminar filas donde pobreza sea nula\n",
    "df_pobreza = df_pobreza.dropna(subset=['Pobreza'])\n",
    "df_pobreza = df_pobreza.dropna(subset=['Pobreza Multidimensional'])\n"
   ]
  },
  {
   "cell_type": "code",
   "execution_count": 40,
   "id": "0d8e7b11",
   "metadata": {},
   "outputs": [
    {
     "data": {
      "text/html": [
       "<div>\n",
       "<style scoped>\n",
       "    .dataframe tbody tr th:only-of-type {\n",
       "        vertical-align: middle;\n",
       "    }\n",
       "\n",
       "    .dataframe tbody tr th {\n",
       "        vertical-align: top;\n",
       "    }\n",
       "\n",
       "    .dataframe thead th {\n",
       "        text-align: right;\n",
       "    }\n",
       "</style>\n",
       "<table border=\"1\" class=\"dataframe\">\n",
       "  <thead>\n",
       "    <tr style=\"text-align: right;\">\n",
       "      <th></th>\n",
       "      <th>folio</th>\n",
       "      <th>id_vivienda</th>\n",
       "      <th>Pobreza</th>\n",
       "      <th>Pobreza Multidimensional</th>\n",
       "      <th>Año</th>\n",
       "      <th>Sistema Provisional</th>\n",
       "      <th>comuna</th>\n",
       "      <th>Nivel socioeconomico</th>\n",
       "      <th>region</th>\n",
       "      <th>edad</th>\n",
       "      <th>Sexo</th>\n",
       "      <th>Ingreso por Hogar</th>\n",
       "    </tr>\n",
       "  </thead>\n",
       "  <tbody>\n",
       "    <tr>\n",
       "      <th>1</th>\n",
       "      <td>1.101100e+11</td>\n",
       "      <td>1.101100e+09</td>\n",
       "      <td>No Pobreza</td>\n",
       "      <td>1.0</td>\n",
       "      <td>2017</td>\n",
       "      <td>Ninguno (particular)</td>\n",
       "      <td>1101.0</td>\n",
       "      <td>Medio</td>\n",
       "      <td>1.0</td>\n",
       "      <td>21.0</td>\n",
       "      <td>Mujer</td>\n",
       "      <td>211091.0</td>\n",
       "    </tr>\n",
       "    <tr>\n",
       "      <th>7</th>\n",
       "      <td>1.101100e+11</td>\n",
       "      <td>1.101100e+09</td>\n",
       "      <td>No Pobreza</td>\n",
       "      <td>1.0</td>\n",
       "      <td>2017</td>\n",
       "      <td>Fonasa</td>\n",
       "      <td>1101.0</td>\n",
       "      <td>Bajo-medio-alto</td>\n",
       "      <td>1.0</td>\n",
       "      <td>62.0</td>\n",
       "      <td>Mujer</td>\n",
       "      <td>463333.0</td>\n",
       "    </tr>\n",
       "    <tr>\n",
       "      <th>8</th>\n",
       "      <td>1.101100e+11</td>\n",
       "      <td>1.101100e+09</td>\n",
       "      <td>No Pobreza</td>\n",
       "      <td>1.0</td>\n",
       "      <td>2017</td>\n",
       "      <td>Fonasa</td>\n",
       "      <td>1101.0</td>\n",
       "      <td>Bajo-medio-alto</td>\n",
       "      <td>1.0</td>\n",
       "      <td>36.0</td>\n",
       "      <td>Mujer</td>\n",
       "      <td>463333.0</td>\n",
       "    </tr>\n",
       "    <tr>\n",
       "      <th>16</th>\n",
       "      <td>1.101100e+11</td>\n",
       "      <td>1.101100e+09</td>\n",
       "      <td>No Pobreza</td>\n",
       "      <td>0.0</td>\n",
       "      <td>2018</td>\n",
       "      <td>Fonasa</td>\n",
       "      <td>1101.0</td>\n",
       "      <td>Medio</td>\n",
       "      <td>1.0</td>\n",
       "      <td>75.0</td>\n",
       "      <td>Hombre</td>\n",
       "      <td>438259.0</td>\n",
       "    </tr>\n",
       "    <tr>\n",
       "      <th>17</th>\n",
       "      <td>1.101100e+11</td>\n",
       "      <td>1.101100e+09</td>\n",
       "      <td>No Pobreza</td>\n",
       "      <td>0.0</td>\n",
       "      <td>2017</td>\n",
       "      <td>Fonasa</td>\n",
       "      <td>1101.0</td>\n",
       "      <td>Bajo-medio-alto</td>\n",
       "      <td>1.0</td>\n",
       "      <td>24.0</td>\n",
       "      <td>Mujer</td>\n",
       "      <td>420000.0</td>\n",
       "    </tr>\n",
       "  </tbody>\n",
       "</table>\n",
       "</div>"
      ],
      "text/plain": [
       "           folio   id_vivienda     Pobreza  Pobreza Multidimensional   Año  \\\n",
       "1   1.101100e+11  1.101100e+09  No Pobreza                       1.0  2017   \n",
       "7   1.101100e+11  1.101100e+09  No Pobreza                       1.0  2017   \n",
       "8   1.101100e+11  1.101100e+09  No Pobreza                       1.0  2017   \n",
       "16  1.101100e+11  1.101100e+09  No Pobreza                       0.0  2018   \n",
       "17  1.101100e+11  1.101100e+09  No Pobreza                       0.0  2017   \n",
       "\n",
       "     Sistema Provisional  comuna Nivel socioeconomico  region  edad    Sexo  \\\n",
       "1   Ninguno (particular)  1101.0                Medio     1.0  21.0   Mujer   \n",
       "7                 Fonasa  1101.0      Bajo-medio-alto     1.0  62.0   Mujer   \n",
       "8                 Fonasa  1101.0      Bajo-medio-alto     1.0  36.0   Mujer   \n",
       "16                Fonasa  1101.0                Medio     1.0  75.0  Hombre   \n",
       "17                Fonasa  1101.0      Bajo-medio-alto     1.0  24.0   Mujer   \n",
       "\n",
       "    Ingreso por Hogar  \n",
       "1            211091.0  \n",
       "7            463333.0  \n",
       "8            463333.0  \n",
       "16           438259.0  \n",
       "17           420000.0  "
      ]
     },
     "execution_count": 40,
     "metadata": {},
     "output_type": "execute_result"
    }
   ],
   "source": [
    "df_pobreza.head()"
   ]
  },
  {
   "cell_type": "code",
   "execution_count": 39,
   "id": "dde60212",
   "metadata": {},
   "outputs": [
    {
     "name": "stdout",
     "output_type": "stream",
     "text": [
      "<class 'pandas.core.frame.DataFrame'>\n",
      "Index: 206572 entries, 1 to 216438\n",
      "Data columns (total 12 columns):\n",
      " #   Column                    Non-Null Count   Dtype  \n",
      "---  ------                    --------------   -----  \n",
      " 0   folio                     206572 non-null  float64\n",
      " 1   id_vivienda               206572 non-null  float64\n",
      " 2   Pobreza                   206572 non-null  object \n",
      " 3   Pobreza Multidimensional  206572 non-null  float64\n",
      " 4   Año                       206572 non-null  int64  \n",
      " 5   Sistema Provisional       206572 non-null  object \n",
      " 6   comuna                    206572 non-null  float64\n",
      " 7   Nivel socioeconomico      206572 non-null  object \n",
      " 8   region                    206572 non-null  float64\n",
      " 9   edad                      206572 non-null  float64\n",
      " 10  Sexo                      206572 non-null  object \n",
      " 11  Ingreso por Hogar         206572 non-null  float64\n",
      "dtypes: float64(7), int64(1), object(4)\n",
      "memory usage: 20.5+ MB\n"
     ]
    }
   ],
   "source": [
    "df_pobreza.info()"
   ]
  },
  {
   "cell_type": "markdown",
   "id": "a8b33de5",
   "metadata": {},
   "source": [
    "Ahora lo guardamos en CSV."
   ]
  },
  {
   "cell_type": "code",
   "execution_count": 41,
   "id": "4c7e9ce7",
   "metadata": {},
   "outputs": [],
   "source": [
    "df_pobreza.to_csv(\"CASEN_POBREZA_2017.csv\", index=False, encoding='utf-8-sig')"
   ]
  },
  {
   "cell_type": "markdown",
   "id": "92039c93",
   "metadata": {},
   "source": [
    "Codificamos para la comuna"
   ]
  },
  {
   "cell_type": "code",
   "execution_count": 43,
   "id": "93cf6e72",
   "metadata": {},
   "outputs": [],
   "source": [
    "df_geografico = pd.read_csv(\"codigos_geograficos_casen2022.csv\")"
   ]
  },
  {
   "cell_type": "code",
   "execution_count": 45,
   "id": "18f9c463",
   "metadata": {},
   "outputs": [],
   "source": [
    "df_final = df_pobreza.merge(\n",
    "    df_geografico,\n",
    "    left_on='comuna', \n",
    "    right_on='codigo_comuna',\n",
    "    how='left'\n",
    ")"
   ]
  },
  {
   "cell_type": "code",
   "execution_count": 46,
   "id": "fdf8346a",
   "metadata": {},
   "outputs": [
    {
     "data": {
      "text/html": [
       "<div>\n",
       "<style scoped>\n",
       "    .dataframe tbody tr th:only-of-type {\n",
       "        vertical-align: middle;\n",
       "    }\n",
       "\n",
       "    .dataframe tbody tr th {\n",
       "        vertical-align: top;\n",
       "    }\n",
       "\n",
       "    .dataframe thead th {\n",
       "        text-align: right;\n",
       "    }\n",
       "</style>\n",
       "<table border=\"1\" class=\"dataframe\">\n",
       "  <thead>\n",
       "    <tr style=\"text-align: right;\">\n",
       "      <th></th>\n",
       "      <th>folio</th>\n",
       "      <th>id_vivienda</th>\n",
       "      <th>Pobreza</th>\n",
       "      <th>Pobreza Multidimensional</th>\n",
       "      <th>Año</th>\n",
       "      <th>Sistema Provisional</th>\n",
       "      <th>comuna</th>\n",
       "      <th>Nivel socioeconomico</th>\n",
       "      <th>region</th>\n",
       "      <th>edad</th>\n",
       "      <th>Sexo</th>\n",
       "      <th>Ingreso por Hogar</th>\n",
       "      <th>codigo_comuna</th>\n",
       "      <th>nombre_comuna</th>\n",
       "      <th>codigo_provincia</th>\n",
       "      <th>nombre_provincia</th>\n",
       "    </tr>\n",
       "  </thead>\n",
       "  <tbody>\n",
       "    <tr>\n",
       "      <th>0</th>\n",
       "      <td>1.101100e+11</td>\n",
       "      <td>1.101100e+09</td>\n",
       "      <td>No Pobreza</td>\n",
       "      <td>1.0</td>\n",
       "      <td>2017</td>\n",
       "      <td>Ninguno (particular)</td>\n",
       "      <td>1101.0</td>\n",
       "      <td>Medio</td>\n",
       "      <td>1.0</td>\n",
       "      <td>21.0</td>\n",
       "      <td>Mujer</td>\n",
       "      <td>211091.0</td>\n",
       "      <td>1101</td>\n",
       "      <td>Iquique</td>\n",
       "      <td>11</td>\n",
       "      <td>Iquique</td>\n",
       "    </tr>\n",
       "    <tr>\n",
       "      <th>1</th>\n",
       "      <td>1.101100e+11</td>\n",
       "      <td>1.101100e+09</td>\n",
       "      <td>No Pobreza</td>\n",
       "      <td>1.0</td>\n",
       "      <td>2017</td>\n",
       "      <td>Fonasa</td>\n",
       "      <td>1101.0</td>\n",
       "      <td>Bajo-medio-alto</td>\n",
       "      <td>1.0</td>\n",
       "      <td>62.0</td>\n",
       "      <td>Mujer</td>\n",
       "      <td>463333.0</td>\n",
       "      <td>1101</td>\n",
       "      <td>Iquique</td>\n",
       "      <td>11</td>\n",
       "      <td>Iquique</td>\n",
       "    </tr>\n",
       "    <tr>\n",
       "      <th>2</th>\n",
       "      <td>1.101100e+11</td>\n",
       "      <td>1.101100e+09</td>\n",
       "      <td>No Pobreza</td>\n",
       "      <td>1.0</td>\n",
       "      <td>2017</td>\n",
       "      <td>Fonasa</td>\n",
       "      <td>1101.0</td>\n",
       "      <td>Bajo-medio-alto</td>\n",
       "      <td>1.0</td>\n",
       "      <td>36.0</td>\n",
       "      <td>Mujer</td>\n",
       "      <td>463333.0</td>\n",
       "      <td>1101</td>\n",
       "      <td>Iquique</td>\n",
       "      <td>11</td>\n",
       "      <td>Iquique</td>\n",
       "    </tr>\n",
       "    <tr>\n",
       "      <th>3</th>\n",
       "      <td>1.101100e+11</td>\n",
       "      <td>1.101100e+09</td>\n",
       "      <td>No Pobreza</td>\n",
       "      <td>0.0</td>\n",
       "      <td>2018</td>\n",
       "      <td>Fonasa</td>\n",
       "      <td>1101.0</td>\n",
       "      <td>Medio</td>\n",
       "      <td>1.0</td>\n",
       "      <td>75.0</td>\n",
       "      <td>Hombre</td>\n",
       "      <td>438259.0</td>\n",
       "      <td>1101</td>\n",
       "      <td>Iquique</td>\n",
       "      <td>11</td>\n",
       "      <td>Iquique</td>\n",
       "    </tr>\n",
       "    <tr>\n",
       "      <th>4</th>\n",
       "      <td>1.101100e+11</td>\n",
       "      <td>1.101100e+09</td>\n",
       "      <td>No Pobreza</td>\n",
       "      <td>0.0</td>\n",
       "      <td>2017</td>\n",
       "      <td>Fonasa</td>\n",
       "      <td>1101.0</td>\n",
       "      <td>Bajo-medio-alto</td>\n",
       "      <td>1.0</td>\n",
       "      <td>24.0</td>\n",
       "      <td>Mujer</td>\n",
       "      <td>420000.0</td>\n",
       "      <td>1101</td>\n",
       "      <td>Iquique</td>\n",
       "      <td>11</td>\n",
       "      <td>Iquique</td>\n",
       "    </tr>\n",
       "  </tbody>\n",
       "</table>\n",
       "</div>"
      ],
      "text/plain": [
       "          folio   id_vivienda     Pobreza  Pobreza Multidimensional   Año  \\\n",
       "0  1.101100e+11  1.101100e+09  No Pobreza                       1.0  2017   \n",
       "1  1.101100e+11  1.101100e+09  No Pobreza                       1.0  2017   \n",
       "2  1.101100e+11  1.101100e+09  No Pobreza                       1.0  2017   \n",
       "3  1.101100e+11  1.101100e+09  No Pobreza                       0.0  2018   \n",
       "4  1.101100e+11  1.101100e+09  No Pobreza                       0.0  2017   \n",
       "\n",
       "    Sistema Provisional  comuna Nivel socioeconomico  region  edad    Sexo  \\\n",
       "0  Ninguno (particular)  1101.0                Medio     1.0  21.0   Mujer   \n",
       "1                Fonasa  1101.0      Bajo-medio-alto     1.0  62.0   Mujer   \n",
       "2                Fonasa  1101.0      Bajo-medio-alto     1.0  36.0   Mujer   \n",
       "3                Fonasa  1101.0                Medio     1.0  75.0  Hombre   \n",
       "4                Fonasa  1101.0      Bajo-medio-alto     1.0  24.0   Mujer   \n",
       "\n",
       "   Ingreso por Hogar  codigo_comuna nombre_comuna  codigo_provincia  \\\n",
       "0           211091.0           1101       Iquique                11   \n",
       "1           463333.0           1101       Iquique                11   \n",
       "2           463333.0           1101       Iquique                11   \n",
       "3           438259.0           1101       Iquique                11   \n",
       "4           420000.0           1101       Iquique                11   \n",
       "\n",
       "  nombre_provincia  \n",
       "0          Iquique  \n",
       "1          Iquique  \n",
       "2          Iquique  \n",
       "3          Iquique  \n",
       "4          Iquique  "
      ]
     },
     "execution_count": 46,
     "metadata": {},
     "output_type": "execute_result"
    }
   ],
   "source": [
    "df_final.head()"
   ]
  },
  {
   "cell_type": "code",
   "execution_count": 47,
   "id": "cfc4048d",
   "metadata": {},
   "outputs": [
    {
     "name": "stdout",
     "output_type": "stream",
     "text": [
      "<class 'pandas.core.frame.DataFrame'>\n",
      "RangeIndex: 206572 entries, 0 to 206571\n",
      "Data columns (total 16 columns):\n",
      " #   Column                    Non-Null Count   Dtype  \n",
      "---  ------                    --------------   -----  \n",
      " 0   folio                     206572 non-null  float64\n",
      " 1   id_vivienda               206572 non-null  float64\n",
      " 2   Pobreza                   206572 non-null  object \n",
      " 3   Pobreza Multidimensional  206572 non-null  float64\n",
      " 4   Año                       206572 non-null  int64  \n",
      " 5   Sistema Provisional       206572 non-null  object \n",
      " 6   comuna                    206572 non-null  float64\n",
      " 7   Nivel socioeconomico      206572 non-null  object \n",
      " 8   region                    206572 non-null  float64\n",
      " 9   edad                      206572 non-null  float64\n",
      " 10  Sexo                      206572 non-null  object \n",
      " 11  Ingreso por Hogar         206572 non-null  float64\n",
      " 12  codigo_comuna             206572 non-null  int64  \n",
      " 13  nombre_comuna             206572 non-null  object \n",
      " 14  codigo_provincia          206572 non-null  int64  \n",
      " 15  nombre_provincia          132206 non-null  object \n",
      "dtypes: float64(7), int64(3), object(6)\n",
      "memory usage: 25.2+ MB\n"
     ]
    }
   ],
   "source": [
    "df_final.info()"
   ]
  },
  {
   "cell_type": "code",
   "execution_count": 48,
   "id": "63d61124",
   "metadata": {},
   "outputs": [
    {
     "data": {
      "text/html": [
       "<div>\n",
       "<style scoped>\n",
       "    .dataframe tbody tr th:only-of-type {\n",
       "        vertical-align: middle;\n",
       "    }\n",
       "\n",
       "    .dataframe tbody tr th {\n",
       "        vertical-align: top;\n",
       "    }\n",
       "\n",
       "    .dataframe thead th {\n",
       "        text-align: right;\n",
       "    }\n",
       "</style>\n",
       "<table border=\"1\" class=\"dataframe\">\n",
       "  <thead>\n",
       "    <tr style=\"text-align: right;\">\n",
       "      <th></th>\n",
       "      <th>folio</th>\n",
       "      <th>id_vivienda</th>\n",
       "      <th>Pobreza</th>\n",
       "      <th>Pobreza Multidimensional</th>\n",
       "      <th>Año</th>\n",
       "      <th>Sistema Provisional</th>\n",
       "      <th>Nivel socioeconomico</th>\n",
       "      <th>region</th>\n",
       "      <th>edad</th>\n",
       "      <th>Sexo</th>\n",
       "      <th>Ingreso por Hogar</th>\n",
       "      <th>Comuna</th>\n",
       "    </tr>\n",
       "  </thead>\n",
       "  <tbody>\n",
       "    <tr>\n",
       "      <th>0</th>\n",
       "      <td>1.101100e+11</td>\n",
       "      <td>1.101100e+09</td>\n",
       "      <td>No Pobreza</td>\n",
       "      <td>1.0</td>\n",
       "      <td>2017</td>\n",
       "      <td>Ninguno (particular)</td>\n",
       "      <td>Medio</td>\n",
       "      <td>1.0</td>\n",
       "      <td>21.0</td>\n",
       "      <td>Mujer</td>\n",
       "      <td>211091.0</td>\n",
       "      <td>Iquique</td>\n",
       "    </tr>\n",
       "    <tr>\n",
       "      <th>1</th>\n",
       "      <td>1.101100e+11</td>\n",
       "      <td>1.101100e+09</td>\n",
       "      <td>No Pobreza</td>\n",
       "      <td>1.0</td>\n",
       "      <td>2017</td>\n",
       "      <td>Fonasa</td>\n",
       "      <td>Bajo-medio-alto</td>\n",
       "      <td>1.0</td>\n",
       "      <td>62.0</td>\n",
       "      <td>Mujer</td>\n",
       "      <td>463333.0</td>\n",
       "      <td>Iquique</td>\n",
       "    </tr>\n",
       "    <tr>\n",
       "      <th>2</th>\n",
       "      <td>1.101100e+11</td>\n",
       "      <td>1.101100e+09</td>\n",
       "      <td>No Pobreza</td>\n",
       "      <td>1.0</td>\n",
       "      <td>2017</td>\n",
       "      <td>Fonasa</td>\n",
       "      <td>Bajo-medio-alto</td>\n",
       "      <td>1.0</td>\n",
       "      <td>36.0</td>\n",
       "      <td>Mujer</td>\n",
       "      <td>463333.0</td>\n",
       "      <td>Iquique</td>\n",
       "    </tr>\n",
       "    <tr>\n",
       "      <th>3</th>\n",
       "      <td>1.101100e+11</td>\n",
       "      <td>1.101100e+09</td>\n",
       "      <td>No Pobreza</td>\n",
       "      <td>0.0</td>\n",
       "      <td>2018</td>\n",
       "      <td>Fonasa</td>\n",
       "      <td>Medio</td>\n",
       "      <td>1.0</td>\n",
       "      <td>75.0</td>\n",
       "      <td>Hombre</td>\n",
       "      <td>438259.0</td>\n",
       "      <td>Iquique</td>\n",
       "    </tr>\n",
       "    <tr>\n",
       "      <th>4</th>\n",
       "      <td>1.101100e+11</td>\n",
       "      <td>1.101100e+09</td>\n",
       "      <td>No Pobreza</td>\n",
       "      <td>0.0</td>\n",
       "      <td>2017</td>\n",
       "      <td>Fonasa</td>\n",
       "      <td>Bajo-medio-alto</td>\n",
       "      <td>1.0</td>\n",
       "      <td>24.0</td>\n",
       "      <td>Mujer</td>\n",
       "      <td>420000.0</td>\n",
       "      <td>Iquique</td>\n",
       "    </tr>\n",
       "  </tbody>\n",
       "</table>\n",
       "</div>"
      ],
      "text/plain": [
       "          folio   id_vivienda     Pobreza  Pobreza Multidimensional   Año  \\\n",
       "0  1.101100e+11  1.101100e+09  No Pobreza                       1.0  2017   \n",
       "1  1.101100e+11  1.101100e+09  No Pobreza                       1.0  2017   \n",
       "2  1.101100e+11  1.101100e+09  No Pobreza                       1.0  2017   \n",
       "3  1.101100e+11  1.101100e+09  No Pobreza                       0.0  2018   \n",
       "4  1.101100e+11  1.101100e+09  No Pobreza                       0.0  2017   \n",
       "\n",
       "    Sistema Provisional Nivel socioeconomico  region  edad    Sexo  \\\n",
       "0  Ninguno (particular)                Medio     1.0  21.0   Mujer   \n",
       "1                Fonasa      Bajo-medio-alto     1.0  62.0   Mujer   \n",
       "2                Fonasa      Bajo-medio-alto     1.0  36.0   Mujer   \n",
       "3                Fonasa                Medio     1.0  75.0  Hombre   \n",
       "4                Fonasa      Bajo-medio-alto     1.0  24.0   Mujer   \n",
       "\n",
       "   Ingreso por Hogar   Comuna  \n",
       "0           211091.0  Iquique  \n",
       "1           463333.0  Iquique  \n",
       "2           463333.0  Iquique  \n",
       "3           438259.0  Iquique  \n",
       "4           420000.0  Iquique  "
      ]
     },
     "execution_count": 48,
     "metadata": {},
     "output_type": "execute_result"
    }
   ],
   "source": [
    "df_final = df_final.drop(['codigo_provincia','nombre_provincia','codigo_comuna','comuna'], axis=1)\n",
    "df_final = df_final.rename(columns={'nombre_comuna': 'Comuna'})\n",
    "df_final.head()"
   ]
  },
  {
   "cell_type": "markdown",
   "id": "fd6979bb",
   "metadata": {},
   "source": [
    "Finalmente creamos el dataframe definitivo"
   ]
  },
  {
   "cell_type": "code",
   "execution_count": 50,
   "id": "1a8d2838",
   "metadata": {},
   "outputs": [],
   "source": [
    "df_final.to_csv(\"CASEN_POBREZA_GEOGRAFICA_2017.csv\", index=False, encoding='utf-8-sig')"
   ]
  }
 ],
 "metadata": {
  "kernelspec": {
   "display_name": "Python 3",
   "language": "python",
   "name": "python3"
  },
  "language_info": {
   "codemirror_mode": {
    "name": "ipython",
    "version": 3
   },
   "file_extension": ".py",
   "mimetype": "text/x-python",
   "name": "python",
   "nbconvert_exporter": "python",
   "pygments_lexer": "ipython3",
   "version": "3.12.9"
  }
 },
 "nbformat": 4,
 "nbformat_minor": 5
}
