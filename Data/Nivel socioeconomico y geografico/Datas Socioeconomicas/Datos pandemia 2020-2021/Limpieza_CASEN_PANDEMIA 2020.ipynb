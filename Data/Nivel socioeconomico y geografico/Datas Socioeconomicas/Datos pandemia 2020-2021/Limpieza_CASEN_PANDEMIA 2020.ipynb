{
 "cells": [
  {
   "cell_type": "markdown",
   "id": "3f656057",
   "metadata": {},
   "source": [
    "Se transforman los datos desde Stata a CSV"
   ]
  },
  {
   "cell_type": "code",
   "execution_count": 1,
   "id": "e78a4e8d-9a2c-49cf-8162-939885426aad",
   "metadata": {},
   "outputs": [
    {
     "name": "stderr",
     "output_type": "stream",
     "text": [
      "C:\\Users\\Liz\\AppData\\Local\\Temp\\ipykernel_3712\\835817429.py:4: UnicodeWarning: \n",
      "One or more strings in the dta file could not be decoded using utf-8, and\n",
      "so the fallback encoding of latin-1 is being used.  This can happen when a file\n",
      "has been incorrectly encoded by Stata or some other software. You should verify\n",
      "the string values returned are correct.\n",
      "  df = pd.read_stata(\"casen_en_Pandemia_2020_STATA.dta\", convert_categoricals=False)\n",
      "C:\\Users\\Liz\\AppData\\Local\\Temp\\ipykernel_3712\\835817429.py:8: FutureWarning: The StataReader.close() method is not part of the public API and will be removed in a future version without notice. Using StataReader as a context manager is the only supported method.\n",
      "  reader.close()\n"
     ]
    },
    {
     "name": "stdout",
     "output_type": "stream",
     "text": [
      "185437 filas guardadas\n"
     ]
    }
   ],
   "source": [
    "import pandas as pd\n",
    "\n",
    "# Leer sin convertir categorías\n",
    "df = pd.read_stata(\"casen_en_Pandemia_2020_STATA.dta\", convert_categoricals=False)\n",
    "\n",
    "reader = pd.io.stata.StataReader(\"casen_en_Pandemia_2020_STATA.dta\")\n",
    "value_labels = reader.value_labels()\n",
    "reader.close()\n",
    "\n",
    "# Guardar\n",
    "df.to_csv(\"CASEN_PANDEMIA_2020.csv\", index=False, encoding='utf-8-sig')\n",
    "print(f\"{len(df)} filas guardadas\")"
   ]
  },
  {
   "cell_type": "markdown",
   "id": "c7c0c0a1",
   "metadata": {},
   "source": [
    "Inspeccionar los datos del cansen para evaluarlos"
   ]
  },
  {
   "cell_type": "code",
   "execution_count": 2,
   "id": "abcf6a4e",
   "metadata": {},
   "outputs": [
    {
     "data": {
      "text/html": [
       "<div>\n",
       "<style scoped>\n",
       "    .dataframe tbody tr th:only-of-type {\n",
       "        vertical-align: middle;\n",
       "    }\n",
       "\n",
       "    .dataframe tbody tr th {\n",
       "        vertical-align: top;\n",
       "    }\n",
       "\n",
       "    .dataframe thead th {\n",
       "        text-align: right;\n",
       "    }\n",
       "</style>\n",
       "<table border=\"1\" class=\"dataframe\">\n",
       "  <thead>\n",
       "    <tr style=\"text-align: right;\">\n",
       "      <th></th>\n",
       "      <th>folio</th>\n",
       "      <th>o</th>\n",
       "      <th>id_persona</th>\n",
       "      <th>id_vivienda</th>\n",
       "      <th>region</th>\n",
       "      <th>provincia</th>\n",
       "      <th>comuna</th>\n",
       "      <th>zona</th>\n",
       "      <th>area</th>\n",
       "      <th>segmento</th>\n",
       "      <th>...</th>\n",
       "      <th>v20</th>\n",
       "      <th>v20_esp</th>\n",
       "      <th>v20_red</th>\n",
       "      <th>v22</th>\n",
       "      <th>v23</th>\n",
       "      <th>v23_sistema</th>\n",
       "      <th>v23_cajon</th>\n",
       "      <th>v27</th>\n",
       "      <th>v28</th>\n",
       "      <th>v29</th>\n",
       "    </tr>\n",
       "  </thead>\n",
       "  <tbody>\n",
       "    <tr>\n",
       "      <th>0</th>\n",
       "      <td>1.101100e+11</td>\n",
       "      <td>1</td>\n",
       "      <td>5</td>\n",
       "      <td>1.101100e+09</td>\n",
       "      <td>1</td>\n",
       "      <td>11</td>\n",
       "      <td>1101</td>\n",
       "      <td>1</td>\n",
       "      <td>1</td>\n",
       "      <td>11011001</td>\n",
       "      <td>...</td>\n",
       "      <td>1</td>\n",
       "      <td></td>\n",
       "      <td>2.0</td>\n",
       "      <td>1.0</td>\n",
       "      <td>2</td>\n",
       "      <td>NaN</td>\n",
       "      <td>NaN</td>\n",
       "      <td>1</td>\n",
       "      <td>NaN</td>\n",
       "      <td>NaN</td>\n",
       "    </tr>\n",
       "    <tr>\n",
       "      <th>1</th>\n",
       "      <td>1.101100e+11</td>\n",
       "      <td>2</td>\n",
       "      <td>6</td>\n",
       "      <td>1.101100e+09</td>\n",
       "      <td>1</td>\n",
       "      <td>11</td>\n",
       "      <td>1101</td>\n",
       "      <td>1</td>\n",
       "      <td>1</td>\n",
       "      <td>11011001</td>\n",
       "      <td>...</td>\n",
       "      <td>1</td>\n",
       "      <td></td>\n",
       "      <td>2.0</td>\n",
       "      <td>1.0</td>\n",
       "      <td>2</td>\n",
       "      <td>NaN</td>\n",
       "      <td>NaN</td>\n",
       "      <td>1</td>\n",
       "      <td>NaN</td>\n",
       "      <td>NaN</td>\n",
       "    </tr>\n",
       "    <tr>\n",
       "      <th>2</th>\n",
       "      <td>1.101100e+11</td>\n",
       "      <td>1</td>\n",
       "      <td>32</td>\n",
       "      <td>1.101100e+09</td>\n",
       "      <td>1</td>\n",
       "      <td>11</td>\n",
       "      <td>1101</td>\n",
       "      <td>1</td>\n",
       "      <td>1</td>\n",
       "      <td>11011001</td>\n",
       "      <td>...</td>\n",
       "      <td>1</td>\n",
       "      <td></td>\n",
       "      <td>2.0</td>\n",
       "      <td>1.0</td>\n",
       "      <td>1</td>\n",
       "      <td>1.0</td>\n",
       "      <td>NaN</td>\n",
       "      <td>1</td>\n",
       "      <td>NaN</td>\n",
       "      <td>NaN</td>\n",
       "    </tr>\n",
       "    <tr>\n",
       "      <th>3</th>\n",
       "      <td>1.101100e+11</td>\n",
       "      <td>2</td>\n",
       "      <td>31</td>\n",
       "      <td>1.101100e+09</td>\n",
       "      <td>1</td>\n",
       "      <td>11</td>\n",
       "      <td>1101</td>\n",
       "      <td>1</td>\n",
       "      <td>1</td>\n",
       "      <td>11011001</td>\n",
       "      <td>...</td>\n",
       "      <td>1</td>\n",
       "      <td></td>\n",
       "      <td>2.0</td>\n",
       "      <td>1.0</td>\n",
       "      <td>1</td>\n",
       "      <td>1.0</td>\n",
       "      <td>NaN</td>\n",
       "      <td>1</td>\n",
       "      <td>NaN</td>\n",
       "      <td>NaN</td>\n",
       "    </tr>\n",
       "    <tr>\n",
       "      <th>4</th>\n",
       "      <td>1.101100e+11</td>\n",
       "      <td>3</td>\n",
       "      <td>30</td>\n",
       "      <td>1.101100e+09</td>\n",
       "      <td>1</td>\n",
       "      <td>11</td>\n",
       "      <td>1101</td>\n",
       "      <td>1</td>\n",
       "      <td>1</td>\n",
       "      <td>11011001</td>\n",
       "      <td>...</td>\n",
       "      <td>1</td>\n",
       "      <td></td>\n",
       "      <td>2.0</td>\n",
       "      <td>1.0</td>\n",
       "      <td>1</td>\n",
       "      <td>1.0</td>\n",
       "      <td>NaN</td>\n",
       "      <td>1</td>\n",
       "      <td>NaN</td>\n",
       "      <td>NaN</td>\n",
       "    </tr>\n",
       "  </tbody>\n",
       "</table>\n",
       "<p>5 rows × 643 columns</p>\n",
       "</div>"
      ],
      "text/plain": [
       "          folio  o  id_persona   id_vivienda  region  provincia  comuna  zona  \\\n",
       "0  1.101100e+11  1           5  1.101100e+09       1         11    1101     1   \n",
       "1  1.101100e+11  2           6  1.101100e+09       1         11    1101     1   \n",
       "2  1.101100e+11  1          32  1.101100e+09       1         11    1101     1   \n",
       "3  1.101100e+11  2          31  1.101100e+09       1         11    1101     1   \n",
       "4  1.101100e+11  3          30  1.101100e+09       1         11    1101     1   \n",
       "\n",
       "   area  segmento  ...  v20  v20_esp  v20_red  v22  v23  v23_sistema  \\\n",
       "0     1  11011001  ...    1               2.0  1.0    2          NaN   \n",
       "1     1  11011001  ...    1               2.0  1.0    2          NaN   \n",
       "2     1  11011001  ...    1               2.0  1.0    1          1.0   \n",
       "3     1  11011001  ...    1               2.0  1.0    1          1.0   \n",
       "4     1  11011001  ...    1               2.0  1.0    1          1.0   \n",
       "\n",
       "   v23_cajon  v27  v28 v29  \n",
       "0        NaN    1  NaN NaN  \n",
       "1        NaN    1  NaN NaN  \n",
       "2        NaN    1  NaN NaN  \n",
       "3        NaN    1  NaN NaN  \n",
       "4        NaN    1  NaN NaN  \n",
       "\n",
       "[5 rows x 643 columns]"
      ]
     },
     "execution_count": 2,
     "metadata": {},
     "output_type": "execute_result"
    }
   ],
   "source": [
    "df.head()\n",
    "\n"
   ]
  },
  {
   "cell_type": "markdown",
   "id": "9440361b",
   "metadata": {},
   "source": [
    "Ver datos de pobreza"
   ]
  },
  {
   "cell_type": "code",
   "execution_count": 3,
   "id": "a3269ff2",
   "metadata": {},
   "outputs": [
    {
     "name": "stdout",
     "output_type": "stream",
     "text": [
      "pobreza\n",
      "3.0    164042\n",
      "2.0     12862\n",
      "1.0      8435\n",
      "Name: count, dtype: int64\n"
     ]
    }
   ],
   "source": [
    "print(df['pobreza'].value_counts())"
   ]
  },
  {
   "cell_type": "code",
   "execution_count": 4,
   "id": "8ee7ad82",
   "metadata": {},
   "outputs": [
    {
     "name": "stdout",
     "output_type": "stream",
     "text": [
      "True\n"
     ]
    }
   ],
   "source": [
    "print('pobreza' in df.columns)"
   ]
  },
  {
   "cell_type": "code",
   "execution_count": 5,
   "id": "a2faebdd",
   "metadata": {},
   "outputs": [
    {
     "name": "stdout",
     "output_type": "stream",
     "text": [
      "pobreza_sinte\n",
      "3    158565\n",
      "2     15292\n",
      "1     11580\n",
      "Name: count, dtype: int64\n"
     ]
    }
   ],
   "source": [
    "print(df['pobreza_sinte'].value_counts())"
   ]
  },
  {
   "cell_type": "code",
   "execution_count": 6,
   "id": "e36a3a40",
   "metadata": {},
   "outputs": [
    {
     "name": "stdout",
     "output_type": "stream",
     "text": [
      "False\n"
     ]
    }
   ],
   "source": [
    "print('nse' in df.columns)"
   ]
  },
  {
   "cell_type": "code",
   "execution_count": 8,
   "id": "cb23e910",
   "metadata": {},
   "outputs": [
    {
     "name": "stderr",
     "output_type": "stream",
     "text": [
      "C:\\Users\\Liz\\AppData\\Local\\Temp\\ipykernel_3712\\2259049735.py:24: PerformanceWarning: DataFrame is highly fragmented.  This is usually the result of calling `frame.insert` many times, which has poor performance.  Consider joining all columns at once using pd.concat(axis=1) instead. To get a de-fragmented frame, use `newframe = frame.copy()`\n",
      "  df['nse_calculado'] = np.select(conditions, choices, default=4)  # Por defecto Bajo-medio\n",
      "C:\\Users\\Liz\\AppData\\Local\\Temp\\ipykernel_3712\\2259049735.py:25: PerformanceWarning: DataFrame is highly fragmented.  This is usually the result of calling `frame.insert` many times, which has poor performance.  Consider joining all columns at once using pd.concat(axis=1) instead. To get a de-fragmented frame, use `newframe = frame.copy()`\n",
      "  df['Nivel socioeconomico'] = df['nse_calculado'].map(mapeo_texto)\n"
     ]
    }
   ],
   "source": [
    "import numpy as np\n",
    "mapeo_texto = {\n",
    "    1: 'Bajo',\n",
    "    2: 'Medio', \n",
    "    3: 'Alto',\n",
    "    4: 'Bajo-medio',\n",
    "    5: 'Bajo-alto',\n",
    "    6: 'Bajo-medio-alto',\n",
    "    7: 'Medio-alto'\n",
    "}\n",
    "\n",
    "conditions = [\n",
    "    df['pobreza_sinte'] == 1,                                      # 1 - Bajo (Indigentes)\n",
    "    df['pobreza_sinte'] == 2,                                      # 4 - Bajo-medio (Pobres)\n",
    "    (df['pobreza_sinte'] == 3) & (df['ypchautcor'] >= df['ypchautcor'].quantile(0.90)),  # 3 - Alto\n",
    "    (df['pobreza_sinte'] == 3) & (df['ypchautcor'] >= df['ypchautcor'].quantile(0.75)),  # 7 - Medio-alto\n",
    "    (df['pobreza_sinte'] == 3) & (df['ypchautcor'] >= df['ypchautcor'].quantile(0.60)),  # 6 - Bajo-medio-alto\n",
    "    (df['pobreza_sinte'] == 3) & (df['ypchautcor'] >= df['ypchautcor'].quantile(0.40)),  # 2 - Medio\n",
    "    (df['pobreza_sinte'] == 3) & (df['ypchautcor'] >= df['ypchautcor'].quantile(0.25)),  # 5 - Bajo-alto\n",
    "]\n",
    "\n",
    "choices = [1, 4, 3, 7, 6, 2, 5]\n",
    "\n",
    "df['nse_calculado'] = np.select(conditions, choices, default=4)  # Por defecto Bajo-medio\n",
    "df['Nivel socioeconomico'] = df['nse_calculado'].map(mapeo_texto)"
   ]
  },
  {
   "cell_type": "code",
   "execution_count": 9,
   "id": "0aad0cff",
   "metadata": {},
   "outputs": [
    {
     "name": "stdout",
     "output_type": "stream",
     "text": [
      "Nivel socioeconomico\n",
      "Bajo-medio         38000\n",
      "Medio              36864\n",
      "Bajo-medio-alto    28071\n",
      "Medio-alto         27815\n",
      "Bajo-alto          24562\n",
      "Alto               18545\n",
      "Bajo               11580\n",
      "Name: count, dtype: int64\n"
     ]
    }
   ],
   "source": [
    "print(df['Nivel socioeconomico'].value_counts())"
   ]
  },
  {
   "cell_type": "code",
   "execution_count": 10,
   "id": "3114ea63",
   "metadata": {},
   "outputs": [
    {
     "name": "stderr",
     "output_type": "stream",
     "text": [
      "C:\\Users\\Liz\\AppData\\Local\\Temp\\ipykernel_3712\\4171661879.py:11: PerformanceWarning: DataFrame is highly fragmented.  This is usually the result of calling `frame.insert` many times, which has poor performance.  Consider joining all columns at once using pd.concat(axis=1) instead. To get a de-fragmented frame, use `newframe = frame.copy()`\n",
      "  df['Sistema Provisional'] = df['s13'].map(mapeo_sistema_pro)\n"
     ]
    }
   ],
   "source": [
    "mapeo_sistema_pro = {\n",
    "    -88: 'no sabe',\n",
    "    1: 'Fonasa', \n",
    "    2: 'Isapre',\n",
    "    3: 'FF.AA. y del Orden',\n",
    "    4: 'Ninguno (particular)',\n",
    "    5: 'Otro sistema'\n",
    "}\n",
    "\n",
    "# Aplicar el mapeo\n",
    "df['Sistema Provisional'] = df['s13'].map(mapeo_sistema_pro)"
   ]
  },
  {
   "cell_type": "code",
   "execution_count": 12,
   "id": "f7f6e2e3",
   "metadata": {},
   "outputs": [
    {
     "name": "stdout",
     "output_type": "stream",
     "text": [
      "False\n"
     ]
    }
   ],
   "source": [
    "print('s13_fonasa' in df.columns)"
   ]
  },
  {
   "cell_type": "code",
   "execution_count": 13,
   "id": "9ef0861d",
   "metadata": {},
   "outputs": [
    {
     "name": "stderr",
     "output_type": "stream",
     "text": [
      "C:\\Users\\Liz\\AppData\\Local\\Temp\\ipykernel_3712\\3783429643.py:6: PerformanceWarning: DataFrame is highly fragmented.  This is usually the result of calling `frame.insert` many times, which has poor performance.  Consider joining all columns at once using pd.concat(axis=1) instead. To get a de-fragmented frame, use `newframe = frame.copy()`\n",
      "  df['Pobreza'] = df['pobreza'].map(mapeo_pobreza)\n"
     ]
    }
   ],
   "source": [
    "mapeo_pobreza = {\n",
    "    1: 'Pobreza Extrema',\n",
    "    2: 'Pobreza No Extrema', \n",
    "    3: 'No Pobreza'\n",
    "}\n",
    "df['Pobreza'] = df['pobreza'].map(mapeo_pobreza)"
   ]
  },
  {
   "cell_type": "code",
   "execution_count": 14,
   "id": "c321c75b",
   "metadata": {},
   "outputs": [
    {
     "name": "stderr",
     "output_type": "stream",
     "text": [
      "C:\\Users\\Liz\\AppData\\Local\\Temp\\ipykernel_3712\\1727529262.py:7: PerformanceWarning: DataFrame is highly fragmented.  This is usually the result of calling `frame.insert` many times, which has poor performance.  Consider joining all columns at once using pd.concat(axis=1) instead. To get a de-fragmented frame, use `newframe = frame.copy()`\n",
      "  df['Sexo'] = df['sexo'].map(mapeo_sexo)\n"
     ]
    }
   ],
   "source": [
    "mapeo_sexo = {\n",
    "    1: 'Hombre',\n",
    "    2: 'Mujer'\n",
    "}\n",
    "\n",
    "# Aplicar el mapeo\n",
    "df['Sexo'] = df['sexo'].map(mapeo_sexo)"
   ]
  },
  {
   "cell_type": "code",
   "execution_count": 15,
   "id": "59892da1",
   "metadata": {},
   "outputs": [
    {
     "name": "stderr",
     "output_type": "stream",
     "text": [
      "C:\\Users\\Liz\\AppData\\Local\\Temp\\ipykernel_3712\\4232368506.py:1: PerformanceWarning: DataFrame is highly fragmented.  This is usually the result of calling `frame.insert` many times, which has poor performance.  Consider joining all columns at once using pd.concat(axis=1) instead. To get a de-fragmented frame, use `newframe = frame.copy()`\n",
      "  df['Año'] = df['fecha_entrev'].dt.year\n",
      "C:\\Users\\Liz\\AppData\\Local\\Temp\\ipykernel_3712\\4232368506.py:2: PerformanceWarning: DataFrame is highly fragmented.  This is usually the result of calling `frame.insert` many times, which has poor performance.  Consider joining all columns at once using pd.concat(axis=1) instead. To get a de-fragmented frame, use `newframe = frame.copy()`\n",
      "  df['Ingreso por Hogar'] = df['ytotcorh']\n"
     ]
    }
   ],
   "source": [
    "df['Año'] = df['fecha_entrev'].dt.year\n",
    "df['Ingreso por Hogar'] = df['ytotcorh']"
   ]
  },
  {
   "cell_type": "markdown",
   "id": "e874a677",
   "metadata": {},
   "source": [
    "Ya investigado la documentacion entregada por la web de la base de datos y el dataframe, tenemos el nombre de las variables para crear un dataframe de pobreza con CASEN EN PANDEMIA 2020"
   ]
  },
  {
   "cell_type": "code",
   "execution_count": 22,
   "id": "2c288667",
   "metadata": {},
   "outputs": [
    {
     "name": "stdout",
     "output_type": "stream",
     "text": [
      " DISTRIBUCIÓN DE POBREZA POR INGRESOS \n",
      "Pobreza\n",
      "No Pobreza            164042\n",
      "Pobreza Extrema         8435\n",
      "Pobreza No Extrema     12862\n",
      "Name: count, dtype: int64\n",
      "\n",
      " DISTRIBUCIÓN DE Pobreza por Sistema de Imputación de Ingresos No Trabajo y Empleo\n",
      "pobreza_sinte\n",
      "1     11580\n",
      "2     15292\n",
      "3    158467\n",
      "Name: count, dtype: int64\n",
      "\n",
      "Total personas con datos: 185339\n"
     ]
    }
   ],
   "source": [
    "# Variables correctas disponibles\n",
    "variables_necesarias = ['folio', 'id_persona','comuna','Pobreza', 'Nivel socioeconomico','pobreza_sinte','region','Año','Sistema Provisional',\n",
    "                          'edad', 'Sexo', 'Ingreso por Hogar']\n",
    "\n",
    "df_pobreza = df[variables_necesarias].copy()\n",
    "\n",
    "# Eliminar filas donde pobreza sea nula\n",
    "df_pobreza = df_pobreza.dropna(subset=['Pobreza'])\n",
    "\n",
    "# Ver distribución de pobreza\n",
    "print(\" DISTRIBUCIÓN DE POBREZA POR INGRESOS \")\n",
    "print(df_pobreza['Pobreza'].value_counts().sort_index())\n",
    "\n",
    "print(\"\\n DISTRIBUCIÓN DE Pobreza por Sistema de Imputación de Ingresos No Trabajo y Empleo\")\n",
    "print(df_pobreza['pobreza_sinte'].value_counts().sort_index())\n",
    "\n",
    "print(f\"\\nTotal personas con datos: {len(df_pobreza)}\")"
   ]
  },
  {
   "cell_type": "code",
   "execution_count": 23,
   "id": "ed33f539",
   "metadata": {},
   "outputs": [
    {
     "name": "stdout",
     "output_type": "stream",
     "text": [
      "<class 'pandas.core.frame.DataFrame'>\n",
      "Index: 185339 entries, 0 to 185436\n",
      "Data columns (total 12 columns):\n",
      " #   Column                Non-Null Count   Dtype  \n",
      "---  ------                --------------   -----  \n",
      " 0   folio                 185339 non-null  float64\n",
      " 1   id_persona            185339 non-null  int16  \n",
      " 2   comuna                185339 non-null  int16  \n",
      " 3   Pobreza               185339 non-null  object \n",
      " 4   Nivel socioeconomico  185339 non-null  object \n",
      " 5   pobreza_sinte         185339 non-null  int8   \n",
      " 6   region                185339 non-null  int8   \n",
      " 7   Año                   185339 non-null  int32  \n",
      " 8   Sistema Provisional   182937 non-null  object \n",
      " 9   edad                  185339 non-null  int16  \n",
      " 10  Sexo                  185339 non-null  object \n",
      " 11  Ingreso por Hogar     185339 non-null  float64\n",
      "dtypes: float64(2), int16(3), int32(1), int8(2), object(4)\n",
      "memory usage: 12.0+ MB\n"
     ]
    }
   ],
   "source": [
    "df_pobreza.info()"
   ]
  },
  {
   "cell_type": "code",
   "execution_count": 24,
   "id": "69935760",
   "metadata": {},
   "outputs": [
    {
     "data": {
      "text/html": [
       "<div>\n",
       "<style scoped>\n",
       "    .dataframe tbody tr th:only-of-type {\n",
       "        vertical-align: middle;\n",
       "    }\n",
       "\n",
       "    .dataframe tbody tr th {\n",
       "        vertical-align: top;\n",
       "    }\n",
       "\n",
       "    .dataframe thead th {\n",
       "        text-align: right;\n",
       "    }\n",
       "</style>\n",
       "<table border=\"1\" class=\"dataframe\">\n",
       "  <thead>\n",
       "    <tr style=\"text-align: right;\">\n",
       "      <th></th>\n",
       "      <th>folio</th>\n",
       "      <th>id_persona</th>\n",
       "      <th>comuna</th>\n",
       "      <th>Pobreza</th>\n",
       "      <th>Nivel socioeconomico</th>\n",
       "      <th>pobreza_sinte</th>\n",
       "      <th>region</th>\n",
       "      <th>Año</th>\n",
       "      <th>Sistema Provisional</th>\n",
       "      <th>edad</th>\n",
       "      <th>Sexo</th>\n",
       "      <th>Ingreso por Hogar</th>\n",
       "    </tr>\n",
       "  </thead>\n",
       "  <tbody>\n",
       "    <tr>\n",
       "      <th>0</th>\n",
       "      <td>1.101100e+11</td>\n",
       "      <td>5</td>\n",
       "      <td>1101</td>\n",
       "      <td>No Pobreza</td>\n",
       "      <td>Medio</td>\n",
       "      <td>3</td>\n",
       "      <td>1</td>\n",
       "      <td>2020</td>\n",
       "      <td>FF.AA. y del Orden</td>\n",
       "      <td>34</td>\n",
       "      <td>Mujer</td>\n",
       "      <td>390833.0</td>\n",
       "    </tr>\n",
       "    <tr>\n",
       "      <th>1</th>\n",
       "      <td>1.101100e+11</td>\n",
       "      <td>6</td>\n",
       "      <td>1101</td>\n",
       "      <td>No Pobreza</td>\n",
       "      <td>Medio</td>\n",
       "      <td>3</td>\n",
       "      <td>1</td>\n",
       "      <td>2020</td>\n",
       "      <td>FF.AA. y del Orden</td>\n",
       "      <td>4</td>\n",
       "      <td>Mujer</td>\n",
       "      <td>390833.0</td>\n",
       "    </tr>\n",
       "    <tr>\n",
       "      <th>2</th>\n",
       "      <td>1.101100e+11</td>\n",
       "      <td>32</td>\n",
       "      <td>1101</td>\n",
       "      <td>No Pobreza</td>\n",
       "      <td>Bajo-medio-alto</td>\n",
       "      <td>3</td>\n",
       "      <td>1</td>\n",
       "      <td>2020</td>\n",
       "      <td>Fonasa</td>\n",
       "      <td>45</td>\n",
       "      <td>Hombre</td>\n",
       "      <td>947583.0</td>\n",
       "    </tr>\n",
       "    <tr>\n",
       "      <th>3</th>\n",
       "      <td>1.101100e+11</td>\n",
       "      <td>31</td>\n",
       "      <td>1101</td>\n",
       "      <td>No Pobreza</td>\n",
       "      <td>Bajo-medio-alto</td>\n",
       "      <td>3</td>\n",
       "      <td>1</td>\n",
       "      <td>2020</td>\n",
       "      <td>Ninguno (particular)</td>\n",
       "      <td>5</td>\n",
       "      <td>Mujer</td>\n",
       "      <td>947583.0</td>\n",
       "    </tr>\n",
       "    <tr>\n",
       "      <th>4</th>\n",
       "      <td>1.101100e+11</td>\n",
       "      <td>30</td>\n",
       "      <td>1101</td>\n",
       "      <td>No Pobreza</td>\n",
       "      <td>Bajo-medio-alto</td>\n",
       "      <td>3</td>\n",
       "      <td>1</td>\n",
       "      <td>2020</td>\n",
       "      <td>Ninguno (particular)</td>\n",
       "      <td>19</td>\n",
       "      <td>Mujer</td>\n",
       "      <td>947583.0</td>\n",
       "    </tr>\n",
       "  </tbody>\n",
       "</table>\n",
       "</div>"
      ],
      "text/plain": [
       "          folio  id_persona  comuna     Pobreza Nivel socioeconomico  \\\n",
       "0  1.101100e+11           5    1101  No Pobreza                Medio   \n",
       "1  1.101100e+11           6    1101  No Pobreza                Medio   \n",
       "2  1.101100e+11          32    1101  No Pobreza      Bajo-medio-alto   \n",
       "3  1.101100e+11          31    1101  No Pobreza      Bajo-medio-alto   \n",
       "4  1.101100e+11          30    1101  No Pobreza      Bajo-medio-alto   \n",
       "\n",
       "   pobreza_sinte  region   Año   Sistema Provisional  edad    Sexo  \\\n",
       "0              3       1  2020    FF.AA. y del Orden    34   Mujer   \n",
       "1              3       1  2020    FF.AA. y del Orden     4   Mujer   \n",
       "2              3       1  2020                Fonasa    45  Hombre   \n",
       "3              3       1  2020  Ninguno (particular)     5   Mujer   \n",
       "4              3       1  2020  Ninguno (particular)    19   Mujer   \n",
       "\n",
       "   Ingreso por Hogar  \n",
       "0           390833.0  \n",
       "1           390833.0  \n",
       "2           947583.0  \n",
       "3           947583.0  \n",
       "4           947583.0  "
      ]
     },
     "execution_count": 24,
     "metadata": {},
     "output_type": "execute_result"
    }
   ],
   "source": [
    "df_pobreza.head()"
   ]
  },
  {
   "cell_type": "markdown",
   "id": "6cfc30f3",
   "metadata": {},
   "source": [
    "Ahora vamos a codificar las comunas con codigos_geograficos_casen2022"
   ]
  },
  {
   "cell_type": "code",
   "execution_count": 25,
   "id": "01c411f2",
   "metadata": {},
   "outputs": [],
   "source": [
    "df_codigo_geo = pd.read_csv('codigos_geograficos_casen2022.csv')"
   ]
  },
  {
   "cell_type": "code",
   "execution_count": 26,
   "id": "c90e7a75",
   "metadata": {},
   "outputs": [],
   "source": [
    "df_final = df_pobreza.merge(\n",
    "    df_codigo_geo,\n",
    "    left_on='comuna', \n",
    "    right_on='codigo_comuna',\n",
    "    how='left'\n",
    ")"
   ]
  },
  {
   "cell_type": "code",
   "execution_count": 27,
   "id": "993936fa",
   "metadata": {},
   "outputs": [
    {
     "data": {
      "text/html": [
       "<div>\n",
       "<style scoped>\n",
       "    .dataframe tbody tr th:only-of-type {\n",
       "        vertical-align: middle;\n",
       "    }\n",
       "\n",
       "    .dataframe tbody tr th {\n",
       "        vertical-align: top;\n",
       "    }\n",
       "\n",
       "    .dataframe thead th {\n",
       "        text-align: right;\n",
       "    }\n",
       "</style>\n",
       "<table border=\"1\" class=\"dataframe\">\n",
       "  <thead>\n",
       "    <tr style=\"text-align: right;\">\n",
       "      <th></th>\n",
       "      <th>folio</th>\n",
       "      <th>id_persona</th>\n",
       "      <th>comuna</th>\n",
       "      <th>Pobreza</th>\n",
       "      <th>Nivel socioeconomico</th>\n",
       "      <th>pobreza_sinte</th>\n",
       "      <th>region</th>\n",
       "      <th>Año</th>\n",
       "      <th>Sistema Provisional</th>\n",
       "      <th>edad</th>\n",
       "      <th>Sexo</th>\n",
       "      <th>Ingreso por Hogar</th>\n",
       "      <th>codigo_comuna</th>\n",
       "      <th>nombre_comuna</th>\n",
       "      <th>codigo_provincia</th>\n",
       "      <th>nombre_provincia</th>\n",
       "    </tr>\n",
       "  </thead>\n",
       "  <tbody>\n",
       "    <tr>\n",
       "      <th>0</th>\n",
       "      <td>1.101100e+11</td>\n",
       "      <td>5</td>\n",
       "      <td>1101</td>\n",
       "      <td>No Pobreza</td>\n",
       "      <td>Medio</td>\n",
       "      <td>3</td>\n",
       "      <td>1</td>\n",
       "      <td>2020</td>\n",
       "      <td>FF.AA. y del Orden</td>\n",
       "      <td>34</td>\n",
       "      <td>Mujer</td>\n",
       "      <td>390833.0</td>\n",
       "      <td>1101</td>\n",
       "      <td>Iquique</td>\n",
       "      <td>11</td>\n",
       "      <td>Iquique</td>\n",
       "    </tr>\n",
       "    <tr>\n",
       "      <th>1</th>\n",
       "      <td>1.101100e+11</td>\n",
       "      <td>6</td>\n",
       "      <td>1101</td>\n",
       "      <td>No Pobreza</td>\n",
       "      <td>Medio</td>\n",
       "      <td>3</td>\n",
       "      <td>1</td>\n",
       "      <td>2020</td>\n",
       "      <td>FF.AA. y del Orden</td>\n",
       "      <td>4</td>\n",
       "      <td>Mujer</td>\n",
       "      <td>390833.0</td>\n",
       "      <td>1101</td>\n",
       "      <td>Iquique</td>\n",
       "      <td>11</td>\n",
       "      <td>Iquique</td>\n",
       "    </tr>\n",
       "    <tr>\n",
       "      <th>2</th>\n",
       "      <td>1.101100e+11</td>\n",
       "      <td>32</td>\n",
       "      <td>1101</td>\n",
       "      <td>No Pobreza</td>\n",
       "      <td>Bajo-medio-alto</td>\n",
       "      <td>3</td>\n",
       "      <td>1</td>\n",
       "      <td>2020</td>\n",
       "      <td>Fonasa</td>\n",
       "      <td>45</td>\n",
       "      <td>Hombre</td>\n",
       "      <td>947583.0</td>\n",
       "      <td>1101</td>\n",
       "      <td>Iquique</td>\n",
       "      <td>11</td>\n",
       "      <td>Iquique</td>\n",
       "    </tr>\n",
       "    <tr>\n",
       "      <th>3</th>\n",
       "      <td>1.101100e+11</td>\n",
       "      <td>31</td>\n",
       "      <td>1101</td>\n",
       "      <td>No Pobreza</td>\n",
       "      <td>Bajo-medio-alto</td>\n",
       "      <td>3</td>\n",
       "      <td>1</td>\n",
       "      <td>2020</td>\n",
       "      <td>Ninguno (particular)</td>\n",
       "      <td>5</td>\n",
       "      <td>Mujer</td>\n",
       "      <td>947583.0</td>\n",
       "      <td>1101</td>\n",
       "      <td>Iquique</td>\n",
       "      <td>11</td>\n",
       "      <td>Iquique</td>\n",
       "    </tr>\n",
       "    <tr>\n",
       "      <th>4</th>\n",
       "      <td>1.101100e+11</td>\n",
       "      <td>30</td>\n",
       "      <td>1101</td>\n",
       "      <td>No Pobreza</td>\n",
       "      <td>Bajo-medio-alto</td>\n",
       "      <td>3</td>\n",
       "      <td>1</td>\n",
       "      <td>2020</td>\n",
       "      <td>Ninguno (particular)</td>\n",
       "      <td>19</td>\n",
       "      <td>Mujer</td>\n",
       "      <td>947583.0</td>\n",
       "      <td>1101</td>\n",
       "      <td>Iquique</td>\n",
       "      <td>11</td>\n",
       "      <td>Iquique</td>\n",
       "    </tr>\n",
       "  </tbody>\n",
       "</table>\n",
       "</div>"
      ],
      "text/plain": [
       "          folio  id_persona  comuna     Pobreza Nivel socioeconomico  \\\n",
       "0  1.101100e+11           5    1101  No Pobreza                Medio   \n",
       "1  1.101100e+11           6    1101  No Pobreza                Medio   \n",
       "2  1.101100e+11          32    1101  No Pobreza      Bajo-medio-alto   \n",
       "3  1.101100e+11          31    1101  No Pobreza      Bajo-medio-alto   \n",
       "4  1.101100e+11          30    1101  No Pobreza      Bajo-medio-alto   \n",
       "\n",
       "   pobreza_sinte  region   Año   Sistema Provisional  edad    Sexo  \\\n",
       "0              3       1  2020    FF.AA. y del Orden    34   Mujer   \n",
       "1              3       1  2020    FF.AA. y del Orden     4   Mujer   \n",
       "2              3       1  2020                Fonasa    45  Hombre   \n",
       "3              3       1  2020  Ninguno (particular)     5   Mujer   \n",
       "4              3       1  2020  Ninguno (particular)    19   Mujer   \n",
       "\n",
       "   Ingreso por Hogar  codigo_comuna nombre_comuna  codigo_provincia  \\\n",
       "0           390833.0           1101       Iquique                11   \n",
       "1           390833.0           1101       Iquique                11   \n",
       "2           947583.0           1101       Iquique                11   \n",
       "3           947583.0           1101       Iquique                11   \n",
       "4           947583.0           1101       Iquique                11   \n",
       "\n",
       "  nombre_provincia  \n",
       "0          Iquique  \n",
       "1          Iquique  \n",
       "2          Iquique  \n",
       "3          Iquique  \n",
       "4          Iquique  "
      ]
     },
     "execution_count": 27,
     "metadata": {},
     "output_type": "execute_result"
    }
   ],
   "source": [
    "df_final.head()"
   ]
  },
  {
   "cell_type": "code",
   "execution_count": 28,
   "id": "ecfe1070",
   "metadata": {},
   "outputs": [
    {
     "name": "stdout",
     "output_type": "stream",
     "text": [
      "<class 'pandas.core.frame.DataFrame'>\n",
      "RangeIndex: 185339 entries, 0 to 185338\n",
      "Data columns (total 16 columns):\n",
      " #   Column                Non-Null Count   Dtype  \n",
      "---  ------                --------------   -----  \n",
      " 0   folio                 185339 non-null  float64\n",
      " 1   id_persona            185339 non-null  int16  \n",
      " 2   comuna                185339 non-null  int16  \n",
      " 3   Pobreza               185339 non-null  object \n",
      " 4   Nivel socioeconomico  185339 non-null  object \n",
      " 5   pobreza_sinte         185339 non-null  int8   \n",
      " 6   region                185339 non-null  int8   \n",
      " 7   Año                   185339 non-null  int32  \n",
      " 8   Sistema Provisional   182937 non-null  object \n",
      " 9   edad                  185339 non-null  int16  \n",
      " 10  Sexo                  185339 non-null  object \n",
      " 11  Ingreso por Hogar     185339 non-null  float64\n",
      " 12  codigo_comuna         185339 non-null  int64  \n",
      " 13  nombre_comuna         185339 non-null  object \n",
      " 14  codigo_provincia      185339 non-null  int64  \n",
      " 15  nombre_provincia      116903 non-null  object \n",
      "dtypes: float64(2), int16(3), int32(1), int64(2), int8(2), object(6)\n",
      "memory usage: 16.3+ MB\n"
     ]
    }
   ],
   "source": [
    "df_final.info()"
   ]
  },
  {
   "cell_type": "markdown",
   "id": "ea805e2f",
   "metadata": {},
   "source": [
    "Limpiamos columnas innecesarias"
   ]
  },
  {
   "cell_type": "code",
   "execution_count": 29,
   "id": "e44bb2cf",
   "metadata": {},
   "outputs": [],
   "source": [
    "df_final = df_final.drop(['codigo_provincia','nombre_provincia','codigo_comuna','comuna'], axis=1)\n"
   ]
  },
  {
   "cell_type": "code",
   "execution_count": 31,
   "id": "6da00616",
   "metadata": {},
   "outputs": [],
   "source": [
    "df_final = df_final.rename(columns={'nombre_comuna': 'Comuna'})"
   ]
  },
  {
   "cell_type": "code",
   "execution_count": 32,
   "id": "17cfebeb",
   "metadata": {},
   "outputs": [
    {
     "data": {
      "text/html": [
       "<div>\n",
       "<style scoped>\n",
       "    .dataframe tbody tr th:only-of-type {\n",
       "        vertical-align: middle;\n",
       "    }\n",
       "\n",
       "    .dataframe tbody tr th {\n",
       "        vertical-align: top;\n",
       "    }\n",
       "\n",
       "    .dataframe thead th {\n",
       "        text-align: right;\n",
       "    }\n",
       "</style>\n",
       "<table border=\"1\" class=\"dataframe\">\n",
       "  <thead>\n",
       "    <tr style=\"text-align: right;\">\n",
       "      <th></th>\n",
       "      <th>folio</th>\n",
       "      <th>id_persona</th>\n",
       "      <th>Pobreza</th>\n",
       "      <th>Nivel socioeconomico</th>\n",
       "      <th>pobreza_sinte</th>\n",
       "      <th>region</th>\n",
       "      <th>Año</th>\n",
       "      <th>Sistema Provisional</th>\n",
       "      <th>edad</th>\n",
       "      <th>Sexo</th>\n",
       "      <th>Ingreso por Hogar</th>\n",
       "      <th>Comuna</th>\n",
       "    </tr>\n",
       "  </thead>\n",
       "  <tbody>\n",
       "    <tr>\n",
       "      <th>0</th>\n",
       "      <td>1.101100e+11</td>\n",
       "      <td>5</td>\n",
       "      <td>No Pobreza</td>\n",
       "      <td>Medio</td>\n",
       "      <td>3</td>\n",
       "      <td>1</td>\n",
       "      <td>2020</td>\n",
       "      <td>FF.AA. y del Orden</td>\n",
       "      <td>34</td>\n",
       "      <td>Mujer</td>\n",
       "      <td>390833.0</td>\n",
       "      <td>Iquique</td>\n",
       "    </tr>\n",
       "    <tr>\n",
       "      <th>1</th>\n",
       "      <td>1.101100e+11</td>\n",
       "      <td>6</td>\n",
       "      <td>No Pobreza</td>\n",
       "      <td>Medio</td>\n",
       "      <td>3</td>\n",
       "      <td>1</td>\n",
       "      <td>2020</td>\n",
       "      <td>FF.AA. y del Orden</td>\n",
       "      <td>4</td>\n",
       "      <td>Mujer</td>\n",
       "      <td>390833.0</td>\n",
       "      <td>Iquique</td>\n",
       "    </tr>\n",
       "    <tr>\n",
       "      <th>2</th>\n",
       "      <td>1.101100e+11</td>\n",
       "      <td>32</td>\n",
       "      <td>No Pobreza</td>\n",
       "      <td>Bajo-medio-alto</td>\n",
       "      <td>3</td>\n",
       "      <td>1</td>\n",
       "      <td>2020</td>\n",
       "      <td>Fonasa</td>\n",
       "      <td>45</td>\n",
       "      <td>Hombre</td>\n",
       "      <td>947583.0</td>\n",
       "      <td>Iquique</td>\n",
       "    </tr>\n",
       "    <tr>\n",
       "      <th>3</th>\n",
       "      <td>1.101100e+11</td>\n",
       "      <td>31</td>\n",
       "      <td>No Pobreza</td>\n",
       "      <td>Bajo-medio-alto</td>\n",
       "      <td>3</td>\n",
       "      <td>1</td>\n",
       "      <td>2020</td>\n",
       "      <td>Ninguno (particular)</td>\n",
       "      <td>5</td>\n",
       "      <td>Mujer</td>\n",
       "      <td>947583.0</td>\n",
       "      <td>Iquique</td>\n",
       "    </tr>\n",
       "    <tr>\n",
       "      <th>4</th>\n",
       "      <td>1.101100e+11</td>\n",
       "      <td>30</td>\n",
       "      <td>No Pobreza</td>\n",
       "      <td>Bajo-medio-alto</td>\n",
       "      <td>3</td>\n",
       "      <td>1</td>\n",
       "      <td>2020</td>\n",
       "      <td>Ninguno (particular)</td>\n",
       "      <td>19</td>\n",
       "      <td>Mujer</td>\n",
       "      <td>947583.0</td>\n",
       "      <td>Iquique</td>\n",
       "    </tr>\n",
       "  </tbody>\n",
       "</table>\n",
       "</div>"
      ],
      "text/plain": [
       "          folio  id_persona     Pobreza Nivel socioeconomico  pobreza_sinte  \\\n",
       "0  1.101100e+11           5  No Pobreza                Medio              3   \n",
       "1  1.101100e+11           6  No Pobreza                Medio              3   \n",
       "2  1.101100e+11          32  No Pobreza      Bajo-medio-alto              3   \n",
       "3  1.101100e+11          31  No Pobreza      Bajo-medio-alto              3   \n",
       "4  1.101100e+11          30  No Pobreza      Bajo-medio-alto              3   \n",
       "\n",
       "   region   Año   Sistema Provisional  edad    Sexo  Ingreso por Hogar  \\\n",
       "0       1  2020    FF.AA. y del Orden    34   Mujer           390833.0   \n",
       "1       1  2020    FF.AA. y del Orden     4   Mujer           390833.0   \n",
       "2       1  2020                Fonasa    45  Hombre           947583.0   \n",
       "3       1  2020  Ninguno (particular)     5   Mujer           947583.0   \n",
       "4       1  2020  Ninguno (particular)    19   Mujer           947583.0   \n",
       "\n",
       "    Comuna  \n",
       "0  Iquique  \n",
       "1  Iquique  \n",
       "2  Iquique  \n",
       "3  Iquique  \n",
       "4  Iquique  "
      ]
     },
     "execution_count": 32,
     "metadata": {},
     "output_type": "execute_result"
    }
   ],
   "source": [
    "df_final.head()"
   ]
  },
  {
   "cell_type": "markdown",
   "id": "af296182",
   "metadata": {},
   "source": [
    "Finalmente creamos el DataFrame definitivo"
   ]
  },
  {
   "cell_type": "code",
   "execution_count": 33,
   "id": "bd306830",
   "metadata": {},
   "outputs": [],
   "source": [
    "df_final.to_csv(\"CASEN_PANDEMIA_POBREZA_GEOGRAFICA_2020.csv\", index=False, encoding='utf-8-sig')"
   ]
  }
 ],
 "metadata": {
  "kernelspec": {
   "display_name": "Python 3",
   "language": "python",
   "name": "python3"
  },
  "language_info": {
   "codemirror_mode": {
    "name": "ipython",
    "version": 3
   },
   "file_extension": ".py",
   "mimetype": "text/x-python",
   "name": "python",
   "nbconvert_exporter": "python",
   "pygments_lexer": "ipython3",
   "version": "3.12.9"
  }
 },
 "nbformat": 4,
 "nbformat_minor": 5
}
