{
 "cells": [
  {
   "cell_type": "markdown",
   "id": "3f656057",
   "metadata": {},
   "source": [
    "Se transforman los datos desde Stata a CSV"
   ]
  },
  {
   "cell_type": "code",
   "execution_count": 3,
   "id": "e78a4e8d-9a2c-49cf-8162-939885426aad",
   "metadata": {},
   "outputs": [
    {
     "name": "stderr",
     "output_type": "stream",
     "text": [
      "C:\\Users\\Liz\\AppData\\Local\\Temp\\ipykernel_9016\\1384067698.py:8: FutureWarning: The StataReader.close() method is not part of the public API and will be removed in a future version without notice. Using StataReader as a context manager is the only supported method.\n",
      "  reader.close()\n"
     ]
    },
    {
     "name": "stdout",
     "output_type": "stream",
     "text": [
      "202231 filas guardadas\n"
     ]
    }
   ],
   "source": [
    "import pandas as pd\n",
    "\n",
    "# Leer sin convertir categorías\n",
    "df_comuna = pd.read_stata(\"Datos provincia y comuna Casen 2022 STATA.dta\", convert_categoricals=False)\n",
    "\n",
    "reader = pd.io.stata.StataReader(\"Datos provincia y comuna Casen 2022 STATA.dta\")\n",
    "value_labels = reader.value_labels()\n",
    "reader.close()\n",
    "\n",
    "# Guardar\n",
    "df_comuna.to_csv(\"CASEN_GEOGRAFICO_2022.csv\", index=False, encoding='utf-8-sig')\n",
    "print(f\"{len(df_comuna)} filas guardadas\")"
   ]
  },
  {
   "cell_type": "markdown",
   "id": "c7c0c0a1",
   "metadata": {},
   "source": [
    "Inspeccionar los datos a limpiar"
   ]
  },
  {
   "cell_type": "code",
   "execution_count": 4,
   "id": "abcf6a4e",
   "metadata": {},
   "outputs": [
    {
     "data": {
      "text/html": [
       "<div>\n",
       "<style scoped>\n",
       "    .dataframe tbody tr th:only-of-type {\n",
       "        vertical-align: middle;\n",
       "    }\n",
       "\n",
       "    .dataframe tbody tr th {\n",
       "        vertical-align: top;\n",
       "    }\n",
       "\n",
       "    .dataframe thead th {\n",
       "        text-align: right;\n",
       "    }\n",
       "</style>\n",
       "<table border=\"1\" class=\"dataframe\">\n",
       "  <thead>\n",
       "    <tr style=\"text-align: right;\">\n",
       "      <th></th>\n",
       "      <th>folio</th>\n",
       "      <th>id_persona</th>\n",
       "      <th>provincia</th>\n",
       "      <th>comuna</th>\n",
       "      <th>expp</th>\n",
       "      <th>expc</th>\n",
       "    </tr>\n",
       "  </thead>\n",
       "  <tbody>\n",
       "    <tr>\n",
       "      <th>0</th>\n",
       "      <td>100090101</td>\n",
       "      <td>1</td>\n",
       "      <td>163</td>\n",
       "      <td>16303</td>\n",
       "      <td>51</td>\n",
       "      <td>52</td>\n",
       "    </tr>\n",
       "    <tr>\n",
       "      <th>1</th>\n",
       "      <td>100090101</td>\n",
       "      <td>2</td>\n",
       "      <td>163</td>\n",
       "      <td>16303</td>\n",
       "      <td>50</td>\n",
       "      <td>53</td>\n",
       "    </tr>\n",
       "    <tr>\n",
       "      <th>2</th>\n",
       "      <td>100090101</td>\n",
       "      <td>3</td>\n",
       "      <td>163</td>\n",
       "      <td>16303</td>\n",
       "      <td>51</td>\n",
       "      <td>52</td>\n",
       "    </tr>\n",
       "    <tr>\n",
       "      <th>3</th>\n",
       "      <td>100090201</td>\n",
       "      <td>1</td>\n",
       "      <td>163</td>\n",
       "      <td>16303</td>\n",
       "      <td>51</td>\n",
       "      <td>52</td>\n",
       "    </tr>\n",
       "    <tr>\n",
       "      <th>4</th>\n",
       "      <td>100090201</td>\n",
       "      <td>2</td>\n",
       "      <td>163</td>\n",
       "      <td>16303</td>\n",
       "      <td>50</td>\n",
       "      <td>52</td>\n",
       "    </tr>\n",
       "  </tbody>\n",
       "</table>\n",
       "</div>"
      ],
      "text/plain": [
       "       folio  id_persona  provincia  comuna  expp  expc\n",
       "0  100090101           1        163   16303    51    52\n",
       "1  100090101           2        163   16303    50    53\n",
       "2  100090101           3        163   16303    51    52\n",
       "3  100090201           1        163   16303    51    52\n",
       "4  100090201           2        163   16303    50    52"
      ]
     },
     "execution_count": 4,
     "metadata": {},
     "output_type": "execute_result"
    }
   ],
   "source": [
    "df_comuna.head()\n",
    "\n"
   ]
  },
  {
   "cell_type": "markdown",
   "id": "dbd7519f",
   "metadata": {},
   "source": [
    "Como son datos estructurados, es mas accecible hacer una limpieza sin eliminar informacion sensible del dataframe"
   ]
  },
  {
   "cell_type": "code",
   "execution_count": 6,
   "id": "b2769990",
   "metadata": {},
   "outputs": [
    {
     "name": "stdout",
     "output_type": "stream",
     "text": [
      "\n",
      "=== NULOS POR COLUMNA ===\n",
      "folio         0\n",
      "id_persona    0\n",
      "provincia     0\n",
      "comuna        0\n",
      "expp          0\n",
      "expc          0\n",
      "dtype: int64\n",
      "\n",
      "Datos después de limpiar: 202231 filas\n",
      "Filas eliminadas: 0\n",
      "\n",
      "DATOS LIMPIOS \n",
      "       folio  id_persona  provincia  comuna  expp  expc\n",
      "0  100090101           1        163   16303    51    52\n",
      "1  100090101           2        163   16303    50    53\n",
      "2  100090101           3        163   16303    51    52\n",
      "3  100090201           1        163   16303    51    52\n",
      "4  100090201           2        163   16303    50    52\n"
     ]
    }
   ],
   "source": [
    "print(\"\\n=== NULOS POR COLUMNA ===\")\n",
    "print(df_comuna.isnull().sum())\n",
    "df_limpio = df_comuna.dropna()\n",
    "\n",
    "print(f\"\\nDatos después de limpiar: {len(df_limpio)} filas\")\n",
    "print(f\"Filas eliminadas: {len(df_comuna) - len(df_limpio)}\")\n",
    "\n",
    "# Ver el resultado\n",
    "print(\"\\nDATOS LIMPIOS \")\n",
    "print(df_limpio.head())"
   ]
  }
 ],
 "metadata": {
  "kernelspec": {
   "display_name": "Python 3",
   "language": "python",
   "name": "python3"
  },
  "language_info": {
   "codemirror_mode": {
    "name": "ipython",
    "version": 3
   },
   "file_extension": ".py",
   "mimetype": "text/x-python",
   "name": "python",
   "nbconvert_exporter": "python",
   "pygments_lexer": "ipython3",
   "version": "3.12.9"
  }
 },
 "nbformat": 4,
 "nbformat_minor": 5
}
