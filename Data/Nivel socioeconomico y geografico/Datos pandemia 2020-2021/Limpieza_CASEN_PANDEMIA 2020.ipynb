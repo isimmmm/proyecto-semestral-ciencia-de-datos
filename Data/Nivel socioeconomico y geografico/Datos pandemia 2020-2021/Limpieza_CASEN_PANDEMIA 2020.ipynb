{
 "cells": [
  {
   "cell_type": "markdown",
   "id": "3f656057",
   "metadata": {},
   "source": [
    "Se transforman los datos desde Stata a CSV"
   ]
  },
  {
   "cell_type": "code",
   "execution_count": 1,
   "id": "e78a4e8d-9a2c-49cf-8162-939885426aad",
   "metadata": {},
   "outputs": [
    {
     "name": "stderr",
     "output_type": "stream",
     "text": [
      "C:\\Users\\Liz\\AppData\\Local\\Temp\\ipykernel_12292\\835817429.py:4: UnicodeWarning: \n",
      "One or more strings in the dta file could not be decoded using utf-8, and\n",
      "so the fallback encoding of latin-1 is being used.  This can happen when a file\n",
      "has been incorrectly encoded by Stata or some other software. You should verify\n",
      "the string values returned are correct.\n",
      "  df = pd.read_stata(\"casen_en_Pandemia_2020_STATA.dta\", convert_categoricals=False)\n",
      "C:\\Users\\Liz\\AppData\\Local\\Temp\\ipykernel_12292\\835817429.py:8: FutureWarning: The StataReader.close() method is not part of the public API and will be removed in a future version without notice. Using StataReader as a context manager is the only supported method.\n",
      "  reader.close()\n"
     ]
    },
    {
     "name": "stdout",
     "output_type": "stream",
     "text": [
      "185437 filas guardadas\n"
     ]
    }
   ],
   "source": [
    "import pandas as pd\n",
    "\n",
    "# Leer sin convertir categorías\n",
    "df = pd.read_stata(\"casen_en_Pandemia_2020_STATA.dta\", convert_categoricals=False)\n",
    "\n",
    "reader = pd.io.stata.StataReader(\"casen_en_Pandemia_2020_STATA.dta\")\n",
    "value_labels = reader.value_labels()\n",
    "reader.close()\n",
    "\n",
    "# Guardar\n",
    "df.to_csv(\"CASEN_PANDEMIA_2020.csv\", index=False, encoding='utf-8-sig')\n",
    "print(f\"{len(df)} filas guardadas\")"
   ]
  },
  {
   "cell_type": "markdown",
   "id": "c7c0c0a1",
   "metadata": {},
   "source": [
    "Inspeccionar los datos del cansen para evaluarlos"
   ]
  },
  {
   "cell_type": "code",
   "execution_count": 8,
   "id": "abcf6a4e",
   "metadata": {},
   "outputs": [
    {
     "data": {
      "text/html": [
       "<div>\n",
       "<style scoped>\n",
       "    .dataframe tbody tr th:only-of-type {\n",
       "        vertical-align: middle;\n",
       "    }\n",
       "\n",
       "    .dataframe tbody tr th {\n",
       "        vertical-align: top;\n",
       "    }\n",
       "\n",
       "    .dataframe thead th {\n",
       "        text-align: right;\n",
       "    }\n",
       "</style>\n",
       "<table border=\"1\" class=\"dataframe\">\n",
       "  <thead>\n",
       "    <tr style=\"text-align: right;\">\n",
       "      <th></th>\n",
       "      <th>folio</th>\n",
       "      <th>o</th>\n",
       "      <th>id_persona</th>\n",
       "      <th>id_vivienda</th>\n",
       "      <th>region</th>\n",
       "      <th>provincia</th>\n",
       "      <th>comuna</th>\n",
       "      <th>zona</th>\n",
       "      <th>area</th>\n",
       "      <th>segmento</th>\n",
       "      <th>...</th>\n",
       "      <th>v20</th>\n",
       "      <th>v20_esp</th>\n",
       "      <th>v20_red</th>\n",
       "      <th>v22</th>\n",
       "      <th>v23</th>\n",
       "      <th>v23_sistema</th>\n",
       "      <th>v23_cajon</th>\n",
       "      <th>v27</th>\n",
       "      <th>v28</th>\n",
       "      <th>v29</th>\n",
       "    </tr>\n",
       "  </thead>\n",
       "  <tbody>\n",
       "    <tr>\n",
       "      <th>0</th>\n",
       "      <td>1.101100e+11</td>\n",
       "      <td>1</td>\n",
       "      <td>5</td>\n",
       "      <td>1.101100e+09</td>\n",
       "      <td>1</td>\n",
       "      <td>11</td>\n",
       "      <td>1101</td>\n",
       "      <td>1</td>\n",
       "      <td>1</td>\n",
       "      <td>11011001</td>\n",
       "      <td>...</td>\n",
       "      <td>1</td>\n",
       "      <td></td>\n",
       "      <td>2.0</td>\n",
       "      <td>1.0</td>\n",
       "      <td>2</td>\n",
       "      <td>NaN</td>\n",
       "      <td>NaN</td>\n",
       "      <td>1</td>\n",
       "      <td>NaN</td>\n",
       "      <td>NaN</td>\n",
       "    </tr>\n",
       "    <tr>\n",
       "      <th>1</th>\n",
       "      <td>1.101100e+11</td>\n",
       "      <td>2</td>\n",
       "      <td>6</td>\n",
       "      <td>1.101100e+09</td>\n",
       "      <td>1</td>\n",
       "      <td>11</td>\n",
       "      <td>1101</td>\n",
       "      <td>1</td>\n",
       "      <td>1</td>\n",
       "      <td>11011001</td>\n",
       "      <td>...</td>\n",
       "      <td>1</td>\n",
       "      <td></td>\n",
       "      <td>2.0</td>\n",
       "      <td>1.0</td>\n",
       "      <td>2</td>\n",
       "      <td>NaN</td>\n",
       "      <td>NaN</td>\n",
       "      <td>1</td>\n",
       "      <td>NaN</td>\n",
       "      <td>NaN</td>\n",
       "    </tr>\n",
       "    <tr>\n",
       "      <th>2</th>\n",
       "      <td>1.101100e+11</td>\n",
       "      <td>1</td>\n",
       "      <td>32</td>\n",
       "      <td>1.101100e+09</td>\n",
       "      <td>1</td>\n",
       "      <td>11</td>\n",
       "      <td>1101</td>\n",
       "      <td>1</td>\n",
       "      <td>1</td>\n",
       "      <td>11011001</td>\n",
       "      <td>...</td>\n",
       "      <td>1</td>\n",
       "      <td></td>\n",
       "      <td>2.0</td>\n",
       "      <td>1.0</td>\n",
       "      <td>1</td>\n",
       "      <td>1.0</td>\n",
       "      <td>NaN</td>\n",
       "      <td>1</td>\n",
       "      <td>NaN</td>\n",
       "      <td>NaN</td>\n",
       "    </tr>\n",
       "    <tr>\n",
       "      <th>3</th>\n",
       "      <td>1.101100e+11</td>\n",
       "      <td>2</td>\n",
       "      <td>31</td>\n",
       "      <td>1.101100e+09</td>\n",
       "      <td>1</td>\n",
       "      <td>11</td>\n",
       "      <td>1101</td>\n",
       "      <td>1</td>\n",
       "      <td>1</td>\n",
       "      <td>11011001</td>\n",
       "      <td>...</td>\n",
       "      <td>1</td>\n",
       "      <td></td>\n",
       "      <td>2.0</td>\n",
       "      <td>1.0</td>\n",
       "      <td>1</td>\n",
       "      <td>1.0</td>\n",
       "      <td>NaN</td>\n",
       "      <td>1</td>\n",
       "      <td>NaN</td>\n",
       "      <td>NaN</td>\n",
       "    </tr>\n",
       "    <tr>\n",
       "      <th>4</th>\n",
       "      <td>1.101100e+11</td>\n",
       "      <td>3</td>\n",
       "      <td>30</td>\n",
       "      <td>1.101100e+09</td>\n",
       "      <td>1</td>\n",
       "      <td>11</td>\n",
       "      <td>1101</td>\n",
       "      <td>1</td>\n",
       "      <td>1</td>\n",
       "      <td>11011001</td>\n",
       "      <td>...</td>\n",
       "      <td>1</td>\n",
       "      <td></td>\n",
       "      <td>2.0</td>\n",
       "      <td>1.0</td>\n",
       "      <td>1</td>\n",
       "      <td>1.0</td>\n",
       "      <td>NaN</td>\n",
       "      <td>1</td>\n",
       "      <td>NaN</td>\n",
       "      <td>NaN</td>\n",
       "    </tr>\n",
       "  </tbody>\n",
       "</table>\n",
       "<p>5 rows × 643 columns</p>\n",
       "</div>"
      ],
      "text/plain": [
       "          folio  o  id_persona   id_vivienda  region  provincia  comuna  zona  \\\n",
       "0  1.101100e+11  1           5  1.101100e+09       1         11    1101     1   \n",
       "1  1.101100e+11  2           6  1.101100e+09       1         11    1101     1   \n",
       "2  1.101100e+11  1          32  1.101100e+09       1         11    1101     1   \n",
       "3  1.101100e+11  2          31  1.101100e+09       1         11    1101     1   \n",
       "4  1.101100e+11  3          30  1.101100e+09       1         11    1101     1   \n",
       "\n",
       "   area  segmento  ...  v20  v20_esp  v20_red  v22  v23  v23_sistema  \\\n",
       "0     1  11011001  ...    1               2.0  1.0    2          NaN   \n",
       "1     1  11011001  ...    1               2.0  1.0    2          NaN   \n",
       "2     1  11011001  ...    1               2.0  1.0    1          1.0   \n",
       "3     1  11011001  ...    1               2.0  1.0    1          1.0   \n",
       "4     1  11011001  ...    1               2.0  1.0    1          1.0   \n",
       "\n",
       "   v23_cajon  v27  v28 v29  \n",
       "0        NaN    1  NaN NaN  \n",
       "1        NaN    1  NaN NaN  \n",
       "2        NaN    1  NaN NaN  \n",
       "3        NaN    1  NaN NaN  \n",
       "4        NaN    1  NaN NaN  \n",
       "\n",
       "[5 rows x 643 columns]"
      ]
     },
     "execution_count": 8,
     "metadata": {},
     "output_type": "execute_result"
    }
   ],
   "source": [
    "df.head()\n",
    "\n"
   ]
  },
  {
   "cell_type": "markdown",
   "id": "9440361b",
   "metadata": {},
   "source": [
    "Ver datos de pobreza"
   ]
  },
  {
   "cell_type": "code",
   "execution_count": 9,
   "id": "a3269ff2",
   "metadata": {},
   "outputs": [
    {
     "name": "stdout",
     "output_type": "stream",
     "text": [
      "pobreza\n",
      "3.0    164042\n",
      "2.0     12862\n",
      "1.0      8435\n",
      "Name: count, dtype: int64\n"
     ]
    }
   ],
   "source": [
    "print(df['pobreza'].value_counts())"
   ]
  },
  {
   "cell_type": "code",
   "execution_count": 10,
   "id": "8ee7ad82",
   "metadata": {},
   "outputs": [
    {
     "name": "stdout",
     "output_type": "stream",
     "text": [
      "True\n"
     ]
    }
   ],
   "source": [
    "print('pobreza' in df.columns)"
   ]
  },
  {
   "cell_type": "code",
   "execution_count": 11,
   "id": "a2faebdd",
   "metadata": {},
   "outputs": [
    {
     "name": "stdout",
     "output_type": "stream",
     "text": [
      "pobreza_sinte\n",
      "3    158565\n",
      "2     15292\n",
      "1     11580\n",
      "Name: count, dtype: int64\n"
     ]
    }
   ],
   "source": [
    "print(df['pobreza_sinte'].value_counts())"
   ]
  },
  {
   "cell_type": "code",
   "execution_count": 17,
   "id": "e36a3a40",
   "metadata": {},
   "outputs": [
    {
     "name": "stdout",
     "output_type": "stream",
     "text": [
      "False\n"
     ]
    }
   ],
   "source": [
    "print('nse' in df.columns)"
   ]
  },
  {
   "cell_type": "code",
   "execution_count": 18,
   "id": "cb23e910",
   "metadata": {},
   "outputs": [
    {
     "name": "stderr",
     "output_type": "stream",
     "text": [
      "C:\\Users\\Liz\\AppData\\Local\\Temp\\ipykernel_12292\\4292242526.py:11: PerformanceWarning: DataFrame is highly fragmented.  This is usually the result of calling `frame.insert` many times, which has poor performance.  Consider joining all columns at once using pd.concat(axis=1) instead. To get a de-fragmented frame, use `newframe = frame.copy()`\n",
      "  df['nse_aproximado'] = np.select(conditions, choices, default='C2-C1')\n"
     ]
    }
   ],
   "source": [
    "import numpy as np\n",
    "conditions = [\n",
    "    df['pobreza'] == 1,  # Indigentes\n",
    "    df['pobreza'] == 2,  # Pobres\n",
    "    df['ypchautcor'] < df['ypchautcor'].quantile(0.75),  # Medio\n",
    "    df['ypchautcor'] >= df['ypchautcor'].quantile(0.75)  # Alto\n",
    "]\n",
    "\n",
    "choices = ['E', 'D', 'C2-C1', 'AB']\n",
    "\n",
    "df['nse_aproximado'] = np.select(conditions, choices, default='C2-C1')"
   ]
  },
  {
   "cell_type": "markdown",
   "id": "e874a677",
   "metadata": {},
   "source": [
    "Ya investigado la documentacion entregada por la web de la base de datos y el dataframe, tenemos el nombre de las variables para crear un dataframe de pobreza con CASEN EN PANDEMIA 2020"
   ]
  },
  {
   "cell_type": "code",
   "execution_count": 36,
   "id": "2c288667",
   "metadata": {},
   "outputs": [
    {
     "name": "stdout",
     "output_type": "stream",
     "text": [
      " DISTRIBUCIÓN DE POBREZA POR INGRESOS \n",
      "pobreza\n",
      "1.0      8435\n",
      "2.0     12862\n",
      "3.0    164042\n",
      "Name: count, dtype: int64\n",
      "\n",
      " DISTRIBUCIÓN DE Pobreza por Sistema de Imputación de Ingresos No Trabajo y Empleo\n",
      "pobreza_sinte\n",
      "1     11580\n",
      "2     15292\n",
      "3    158467\n",
      "Name: count, dtype: int64\n",
      "\n",
      " DISTRIBUCIÓN DE NIVEL SOCIOECONÓMICO (NSE) \n",
      "nse_aproximado\n",
      "AB        46270\n",
      "C2-C1    117772\n",
      "D         12862\n",
      "E          8435\n",
      "Name: count, dtype: int64\n",
      "\n",
      "Total personas con datos: 185339\n"
     ]
    }
   ],
   "source": [
    "# Variables correctas disponibles\n",
    "variables_necesarias = ['folio', 'id_persona','provincia','comuna','pobreza', 'lp','li','pobreza_sinte', 'nse_aproximado',\n",
    "                          'edad', 'sexo', 'ytotcorh', 'yoprcorh','expr']\n",
    "\n",
    "df_pobreza = df[variables_necesarias].copy()\n",
    "\n",
    "# Eliminar filas donde pobreza sea nula\n",
    "df_pobreza = df_pobreza.dropna(subset=['pobreza'])\n",
    "\n",
    "# Ver distribución de pobreza\n",
    "print(\" DISTRIBUCIÓN DE POBREZA POR INGRESOS \")\n",
    "print(df_pobreza['pobreza'].value_counts().sort_index())\n",
    "\n",
    "print(\"\\n DISTRIBUCIÓN DE Pobreza por Sistema de Imputación de Ingresos No Trabajo y Empleo\")\n",
    "print(df_pobreza['pobreza_sinte'].value_counts().sort_index())\n",
    "\n",
    "print(\"\\n DISTRIBUCIÓN DE NIVEL SOCIOECONÓMICO (NSE) \")\n",
    "print(df_pobreza['nse_aproximado'].value_counts().sort_index())\n",
    "\n",
    "print(f\"\\nTotal personas con datos: {len(df_pobreza)}\")"
   ]
  },
  {
   "cell_type": "code",
   "execution_count": 37,
   "id": "ed33f539",
   "metadata": {},
   "outputs": [
    {
     "name": "stdout",
     "output_type": "stream",
     "text": [
      "<class 'pandas.core.frame.DataFrame'>\n",
      "Index: 185339 entries, 0 to 185436\n",
      "Data columns (total 14 columns):\n",
      " #   Column          Non-Null Count   Dtype  \n",
      "---  ------          --------------   -----  \n",
      " 0   folio           185339 non-null  float64\n",
      " 1   id_persona      185339 non-null  int16  \n",
      " 2   provincia       185339 non-null  int16  \n",
      " 3   comuna          185339 non-null  int16  \n",
      " 4   pobreza         185339 non-null  float64\n",
      " 5   lp              185339 non-null  int32  \n",
      " 6   li              185339 non-null  int32  \n",
      " 7   pobreza_sinte   185339 non-null  int8   \n",
      " 8   nse_aproximado  185339 non-null  object \n",
      " 9   edad            185339 non-null  int16  \n",
      " 10  sexo            185339 non-null  int8   \n",
      " 11  ytotcorh        185339 non-null  float64\n",
      " 12  yoprcorh        185339 non-null  float32\n",
      " 13  expr            185339 non-null  int16  \n",
      "dtypes: float32(1), float64(3), int16(5), int32(2), int8(2), object(1)\n",
      "memory usage: 11.3+ MB\n"
     ]
    }
   ],
   "source": [
    "df_pobreza.info()"
   ]
  },
  {
   "cell_type": "code",
   "execution_count": 38,
   "id": "69935760",
   "metadata": {},
   "outputs": [
    {
     "data": {
      "text/html": [
       "<div>\n",
       "<style scoped>\n",
       "    .dataframe tbody tr th:only-of-type {\n",
       "        vertical-align: middle;\n",
       "    }\n",
       "\n",
       "    .dataframe tbody tr th {\n",
       "        vertical-align: top;\n",
       "    }\n",
       "\n",
       "    .dataframe thead th {\n",
       "        text-align: right;\n",
       "    }\n",
       "</style>\n",
       "<table border=\"1\" class=\"dataframe\">\n",
       "  <thead>\n",
       "    <tr style=\"text-align: right;\">\n",
       "      <th></th>\n",
       "      <th>folio</th>\n",
       "      <th>id_persona</th>\n",
       "      <th>provincia</th>\n",
       "      <th>comuna</th>\n",
       "      <th>pobreza</th>\n",
       "      <th>lp</th>\n",
       "      <th>li</th>\n",
       "      <th>pobreza_sinte</th>\n",
       "      <th>nse_aproximado</th>\n",
       "      <th>edad</th>\n",
       "      <th>sexo</th>\n",
       "      <th>ytotcorh</th>\n",
       "      <th>yoprcorh</th>\n",
       "      <th>expr</th>\n",
       "    </tr>\n",
       "  </thead>\n",
       "  <tbody>\n",
       "    <tr>\n",
       "      <th>0</th>\n",
       "      <td>1.101100e+11</td>\n",
       "      <td>5</td>\n",
       "      <td>11</td>\n",
       "      <td>1101</td>\n",
       "      <td>3.0</td>\n",
       "      <td>174131</td>\n",
       "      <td>116087</td>\n",
       "      <td>3</td>\n",
       "      <td>C2-C1</td>\n",
       "      <td>34</td>\n",
       "      <td>2</td>\n",
       "      <td>390833.0</td>\n",
       "      <td>150000.0</td>\n",
       "      <td>67</td>\n",
       "    </tr>\n",
       "    <tr>\n",
       "      <th>1</th>\n",
       "      <td>1.101100e+11</td>\n",
       "      <td>6</td>\n",
       "      <td>11</td>\n",
       "      <td>1101</td>\n",
       "      <td>3.0</td>\n",
       "      <td>174131</td>\n",
       "      <td>116087</td>\n",
       "      <td>3</td>\n",
       "      <td>C2-C1</td>\n",
       "      <td>4</td>\n",
       "      <td>2</td>\n",
       "      <td>390833.0</td>\n",
       "      <td>150000.0</td>\n",
       "      <td>67</td>\n",
       "    </tr>\n",
       "    <tr>\n",
       "      <th>2</th>\n",
       "      <td>1.101100e+11</td>\n",
       "      <td>32</td>\n",
       "      <td>11</td>\n",
       "      <td>1101</td>\n",
       "      <td>3.0</td>\n",
       "      <td>174131</td>\n",
       "      <td>116087</td>\n",
       "      <td>3</td>\n",
       "      <td>C2-C1</td>\n",
       "      <td>45</td>\n",
       "      <td>1</td>\n",
       "      <td>947583.0</td>\n",
       "      <td>372000.0</td>\n",
       "      <td>67</td>\n",
       "    </tr>\n",
       "    <tr>\n",
       "      <th>3</th>\n",
       "      <td>1.101100e+11</td>\n",
       "      <td>31</td>\n",
       "      <td>11</td>\n",
       "      <td>1101</td>\n",
       "      <td>3.0</td>\n",
       "      <td>174131</td>\n",
       "      <td>116087</td>\n",
       "      <td>3</td>\n",
       "      <td>C2-C1</td>\n",
       "      <td>5</td>\n",
       "      <td>2</td>\n",
       "      <td>947583.0</td>\n",
       "      <td>372000.0</td>\n",
       "      <td>67</td>\n",
       "    </tr>\n",
       "    <tr>\n",
       "      <th>4</th>\n",
       "      <td>1.101100e+11</td>\n",
       "      <td>30</td>\n",
       "      <td>11</td>\n",
       "      <td>1101</td>\n",
       "      <td>3.0</td>\n",
       "      <td>174131</td>\n",
       "      <td>116087</td>\n",
       "      <td>3</td>\n",
       "      <td>C2-C1</td>\n",
       "      <td>19</td>\n",
       "      <td>2</td>\n",
       "      <td>947583.0</td>\n",
       "      <td>372000.0</td>\n",
       "      <td>67</td>\n",
       "    </tr>\n",
       "  </tbody>\n",
       "</table>\n",
       "</div>"
      ],
      "text/plain": [
       "          folio  id_persona  provincia  comuna  pobreza      lp      li  \\\n",
       "0  1.101100e+11           5         11    1101      3.0  174131  116087   \n",
       "1  1.101100e+11           6         11    1101      3.0  174131  116087   \n",
       "2  1.101100e+11          32         11    1101      3.0  174131  116087   \n",
       "3  1.101100e+11          31         11    1101      3.0  174131  116087   \n",
       "4  1.101100e+11          30         11    1101      3.0  174131  116087   \n",
       "\n",
       "   pobreza_sinte nse_aproximado  edad  sexo  ytotcorh  yoprcorh  expr  \n",
       "0              3          C2-C1    34     2  390833.0  150000.0    67  \n",
       "1              3          C2-C1     4     2  390833.0  150000.0    67  \n",
       "2              3          C2-C1    45     1  947583.0  372000.0    67  \n",
       "3              3          C2-C1     5     2  947583.0  372000.0    67  \n",
       "4              3          C2-C1    19     2  947583.0  372000.0    67  "
      ]
     },
     "execution_count": 38,
     "metadata": {},
     "output_type": "execute_result"
    }
   ],
   "source": [
    "df_pobreza.head()"
   ]
  },
  {
   "cell_type": "code",
   "execution_count": 39,
   "id": "bd306830",
   "metadata": {},
   "outputs": [],
   "source": [
    "df_pobreza.to_csv(\"CASEN_PANDEMIA_POBREZA_GEOGRAFICA_2020.csv\", index=False, encoding='utf-8-sig')"
   ]
  }
 ],
 "metadata": {
  "kernelspec": {
   "display_name": "Python 3",
   "language": "python",
   "name": "python3"
  },
  "language_info": {
   "codemirror_mode": {
    "name": "ipython",
    "version": 3
   },
   "file_extension": ".py",
   "mimetype": "text/x-python",
   "name": "python",
   "nbconvert_exporter": "python",
   "pygments_lexer": "ipython3",
   "version": "3.12.9"
  }
 },
 "nbformat": 4,
 "nbformat_minor": 5
}
